{
 "cells": [
  {
   "cell_type": "markdown",
   "metadata": {},
   "source": [
    "# Importing Dependencies"
   ]
  },
  {
   "cell_type": "code",
   "execution_count": 1,
   "metadata": {
    "collapsed": true
   },
   "outputs": [],
   "source": [
    "import pandas as pd"
   ]
  },
  {
   "cell_type": "code",
   "execution_count": 2,
   "metadata": {
    "collapsed": true
   },
   "outputs": [],
   "source": [
    "df=pd.read_csv('Deduplication Problem - Sample Dataset.csv')"
   ]
  },
  {
   "cell_type": "code",
   "execution_count": 3,
   "metadata": {},
   "outputs": [
    {
     "data": {
      "text/html": [
       "<div>\n",
       "<style>\n",
       "    .dataframe thead tr:only-child th {\n",
       "        text-align: right;\n",
       "    }\n",
       "\n",
       "    .dataframe thead th {\n",
       "        text-align: left;\n",
       "    }\n",
       "\n",
       "    .dataframe tbody tr th {\n",
       "        vertical-align: top;\n",
       "    }\n",
       "</style>\n",
       "<table border=\"1\" class=\"dataframe\">\n",
       "  <thead>\n",
       "    <tr style=\"text-align: right;\">\n",
       "      <th></th>\n",
       "      <th>ln</th>\n",
       "      <th>dob</th>\n",
       "      <th>gn</th>\n",
       "      <th>fn</th>\n",
       "    </tr>\n",
       "  </thead>\n",
       "  <tbody>\n",
       "    <tr>\n",
       "      <th>0</th>\n",
       "      <td>SMITH JR</td>\n",
       "      <td>01/03/68</td>\n",
       "      <td>F</td>\n",
       "      <td>WILLIAM</td>\n",
       "    </tr>\n",
       "    <tr>\n",
       "      <th>1</th>\n",
       "      <td>ROTHMEYER JR</td>\n",
       "      <td>01/03/68</td>\n",
       "      <td>F</td>\n",
       "      <td>WILLIAM</td>\n",
       "    </tr>\n",
       "    <tr>\n",
       "      <th>2</th>\n",
       "      <td>ASBY JR</td>\n",
       "      <td>01/03/68</td>\n",
       "      <td>F</td>\n",
       "      <td>WILLIAM</td>\n",
       "    </tr>\n",
       "    <tr>\n",
       "      <th>3</th>\n",
       "      <td>SALTER JR</td>\n",
       "      <td>01/03/68</td>\n",
       "      <td>F</td>\n",
       "      <td>WILLIAM</td>\n",
       "    </tr>\n",
       "    <tr>\n",
       "      <th>4</th>\n",
       "      <td>SALTER JR</td>\n",
       "      <td>01/03/68</td>\n",
       "      <td>F</td>\n",
       "      <td>WILLIAM</td>\n",
       "    </tr>\n",
       "    <tr>\n",
       "      <th>5</th>\n",
       "      <td>BLAND JR</td>\n",
       "      <td>21/02/62</td>\n",
       "      <td>F</td>\n",
       "      <td>WILLIAM</td>\n",
       "    </tr>\n",
       "    <tr>\n",
       "      <th>6</th>\n",
       "      <td>BLAND JR</td>\n",
       "      <td>21/02/62</td>\n",
       "      <td>F</td>\n",
       "      <td>WILLIAM</td>\n",
       "    </tr>\n",
       "    <tr>\n",
       "      <th>7</th>\n",
       "      <td>BLAND JR</td>\n",
       "      <td>21/02/62</td>\n",
       "      <td>F</td>\n",
       "      <td>WILLIAM</td>\n",
       "    </tr>\n",
       "  </tbody>\n",
       "</table>\n",
       "</div>"
      ],
      "text/plain": [
       "             ln       dob gn       fn\n",
       "0      SMITH JR  01/03/68  F  WILLIAM\n",
       "1  ROTHMEYER JR  01/03/68  F  WILLIAM\n",
       "2       ASBY JR  01/03/68  F  WILLIAM\n",
       "3     SALTER JR  01/03/68  F  WILLIAM\n",
       "4     SALTER JR  01/03/68  F  WILLIAM\n",
       "5      BLAND JR  21/02/62  F  WILLIAM\n",
       "6      BLAND JR  21/02/62  F  WILLIAM\n",
       "7      BLAND JR  21/02/62  F  WILLIAM"
      ]
     },
     "execution_count": 3,
     "metadata": {},
     "output_type": "execute_result"
    }
   ],
   "source": [
    "df.head(8)"
   ]
  },
  {
   "cell_type": "code",
   "execution_count": 4,
   "metadata": {},
   "outputs": [
    {
     "data": {
      "text/html": [
       "<div>\n",
       "<style>\n",
       "    .dataframe thead tr:only-child th {\n",
       "        text-align: right;\n",
       "    }\n",
       "\n",
       "    .dataframe thead th {\n",
       "        text-align: left;\n",
       "    }\n",
       "\n",
       "    .dataframe tbody tr th {\n",
       "        vertical-align: top;\n",
       "    }\n",
       "</style>\n",
       "<table border=\"1\" class=\"dataframe\">\n",
       "  <thead>\n",
       "    <tr style=\"text-align: right;\">\n",
       "      <th></th>\n",
       "      <th>ln</th>\n",
       "      <th>dob</th>\n",
       "      <th>gn</th>\n",
       "      <th>fn</th>\n",
       "    </tr>\n",
       "  </thead>\n",
       "  <tbody>\n",
       "    <tr>\n",
       "      <th>count</th>\n",
       "      <td>103</td>\n",
       "      <td>103</td>\n",
       "      <td>103</td>\n",
       "      <td>103</td>\n",
       "    </tr>\n",
       "    <tr>\n",
       "      <th>unique</th>\n",
       "      <td>28</td>\n",
       "      <td>22</td>\n",
       "      <td>2</td>\n",
       "      <td>26</td>\n",
       "    </tr>\n",
       "    <tr>\n",
       "      <th>top</th>\n",
       "      <td>MICHAELSON JR</td>\n",
       "      <td>07/10/37</td>\n",
       "      <td>M</td>\n",
       "      <td>HAROLD</td>\n",
       "    </tr>\n",
       "    <tr>\n",
       "      <th>freq</th>\n",
       "      <td>22</td>\n",
       "      <td>24</td>\n",
       "      <td>77</td>\n",
       "      <td>24</td>\n",
       "    </tr>\n",
       "  </tbody>\n",
       "</table>\n",
       "</div>"
      ],
      "text/plain": [
       "                   ln       dob   gn      fn\n",
       "count             103       103  103     103\n",
       "unique             28        22    2      26\n",
       "top     MICHAELSON JR  07/10/37    M  HAROLD\n",
       "freq               22        24   77      24"
      ]
     },
     "execution_count": 4,
     "metadata": {},
     "output_type": "execute_result"
    }
   ],
   "source": [
    "df.describe()"
   ]
  },
  {
   "cell_type": "code",
   "execution_count": 5,
   "metadata": {},
   "outputs": [
    {
     "data": {
      "text/plain": [
       "ln     28\n",
       "dob    22\n",
       "gn      2\n",
       "fn     26\n",
       "dtype: int64"
      ]
     },
     "execution_count": 5,
     "metadata": {},
     "output_type": "execute_result"
    }
   ],
   "source": [
    "df.nunique()"
   ]
  },
  {
   "cell_type": "markdown",
   "metadata": {},
   "source": [
    "## Vectorizing the Text & Seperating Dates"
   ]
  },
  {
   "cell_type": "code",
   "execution_count": 6,
   "metadata": {
    "collapsed": true
   },
   "outputs": [],
   "source": [
    "from sklearn.feature_extraction.text import CountVectorizer\n",
    "vectorizer=CountVectorizer()"
   ]
  },
  {
   "cell_type": "code",
   "execution_count": 7,
   "metadata": {
    "collapsed": true
   },
   "outputs": [],
   "source": [
    "df['day']=pd.to_datetime(df['dob']).dt.day\n",
    "df['month']=pd.to_datetime(df['dob']).dt.month\n",
    "df['year']=pd.to_datetime(df['dob']).dt.year"
   ]
  },
  {
   "cell_type": "code",
   "execution_count": 8,
   "metadata": {
    "collapsed": true
   },
   "outputs": [],
   "source": [
    "df.drop('dob',axis=1,inplace=True)"
   ]
  },
  {
   "cell_type": "code",
   "execution_count": 9,
   "metadata": {
    "collapsed": true
   },
   "outputs": [],
   "source": [
    "gender_dummie=pd.get_dummies(df['gn'])"
   ]
  },
  {
   "cell_type": "code",
   "execution_count": 10,
   "metadata": {
    "collapsed": true
   },
   "outputs": [],
   "source": [
    "df=pd.concat([df,gender_dummie],axis=1)\n",
    "df.drop('gn',axis=1,inplace=True)"
   ]
  },
  {
   "cell_type": "code",
   "execution_count": 11,
   "metadata": {
    "collapsed": true
   },
   "outputs": [],
   "source": [
    "from sklearn.cluster import KMeans\n",
    "K=KMeans()"
   ]
  },
  {
   "cell_type": "code",
   "execution_count": 12,
   "metadata": {},
   "outputs": [
    {
     "ename": "NameError",
     "evalue": "name 'Kmeans_model' is not defined",
     "output_type": "error",
     "traceback": [
      "\u001b[1;31m---------------------------------------------------------------------------\u001b[0m",
      "\u001b[1;31mNameError\u001b[0m                                 Traceback (most recent call last)",
      "\u001b[1;32m<ipython-input-12-0f3a27cce309>\u001b[0m in \u001b[0;36m<module>\u001b[1;34m()\u001b[0m\n\u001b[0;32m      1\u001b[0m \u001b[0mVect\u001b[0m\u001b[1;33m=\u001b[0m\u001b[0mvectorizer\u001b[0m\u001b[1;33m.\u001b[0m\u001b[0mfit_transform\u001b[0m\u001b[1;33m(\u001b[0m\u001b[0mdf\u001b[0m\u001b[1;33m[\u001b[0m\u001b[1;34m'fn'\u001b[0m\u001b[1;33m]\u001b[0m\u001b[1;33m)\u001b[0m\u001b[1;33m\u001b[0m\u001b[0m\n\u001b[1;32m----> 2\u001b[1;33m \u001b[0mKmeans_model\u001b[0m\u001b[1;33m.\u001b[0m\u001b[0mfit\u001b[0m\u001b[1;33m(\u001b[0m\u001b[0mVect\u001b[0m\u001b[1;33m.\u001b[0m\u001b[0mtoarray\u001b[0m\u001b[1;33m(\u001b[0m\u001b[1;33m)\u001b[0m\u001b[1;33m)\u001b[0m\u001b[1;33m\u001b[0m\u001b[0m\n\u001b[0m\u001b[0;32m      3\u001b[0m \u001b[0mvectorizer\u001b[0m\u001b[1;33m.\u001b[0m\u001b[0mget_feature_names\u001b[0m\u001b[1;33m(\u001b[0m\u001b[1;33m)\u001b[0m\u001b[1;33m\u001b[0m\u001b[0m\n\u001b[0;32m      4\u001b[0m \u001b[1;33m\u001b[0m\u001b[0m\n\u001b[0;32m      5\u001b[0m \u001b[0mFirstNameCol\u001b[0m\u001b[1;33m=\u001b[0m\u001b[0mpd\u001b[0m\u001b[1;33m.\u001b[0m\u001b[0mDataFrame\u001b[0m\u001b[1;33m(\u001b[0m\u001b[0mVect\u001b[0m\u001b[1;33m.\u001b[0m\u001b[0mtoarray\u001b[0m\u001b[1;33m(\u001b[0m\u001b[1;33m)\u001b[0m\u001b[1;33m,\u001b[0m\u001b[0mcolumns\u001b[0m\u001b[1;33m=\u001b[0m\u001b[0mvectorizer\u001b[0m\u001b[1;33m.\u001b[0m\u001b[0mget_feature_names\u001b[0m\u001b[1;33m(\u001b[0m\u001b[1;33m)\u001b[0m\u001b[1;33m)\u001b[0m\u001b[1;33m\u001b[0m\u001b[0m\n",
      "\u001b[1;31mNameError\u001b[0m: name 'Kmeans_model' is not defined"
     ]
    }
   ],
   "source": [
    "Vect=vectorizer.fit_transform(df['fn'])\n",
    "Kmeans_model.fit(Vect.toarray())\n",
    "vectorizer.get_feature_names()\n",
    "\n",
    "FirstNameCol=pd.DataFrame(Vect.toarray(),columns=vectorizer.get_feature_names())\n",
    "vectorizer=CountVectorizer()\n",
    "Vect=vectorizer.fit_transform(df['ln'])\n",
    "\n",
    "SecondNameCol=pd.DataFrame(Vect.toarray(),columns=vectorizer.get_feature_names())"
   ]
  },
  {
   "cell_type": "code",
   "execution_count": 84,
   "metadata": {
    "collapsed": true
   },
   "outputs": [],
   "source": [
    "Final=pd.concat([df,FirstNameCol,SecondNameCol],axis=1)"
   ]
  },
  {
   "cell_type": "code",
   "execution_count": 85,
   "metadata": {
    "collapsed": true
   },
   "outputs": [],
   "source": [
    "Final.drop(['ln','fn'],axis=1,inplace=True)\n"
   ]
  },
  {
   "cell_type": "code",
   "execution_count": 86,
   "metadata": {
    "collapsed": true
   },
   "outputs": [],
   "source": [
    "Kmeans_model=KMeans(n_clusters=29).fit(Final)\n"
   ]
  },
  {
   "cell_type": "markdown",
   "metadata": {},
   "source": [
    "# Evaluation"
   ]
  },
  {
   "cell_type": "code",
   "execution_count": 87,
   "metadata": {
    "collapsed": true
   },
   "outputs": [],
   "source": [
    "from sklearn.metrics import calinski_harabaz_score"
   ]
  },
  {
   "cell_type": "code",
   "execution_count": null,
   "metadata": {},
   "outputs": [
    {
     "name": "stdout",
     "output_type": "stream",
     "text": [
      "3 0.5077386601873867\n",
      "4 0.5456565335175568\n",
      "5 0.547286146977991\n",
      "6 0.5721155067646232\n",
      "7 0.6325338078524015\n",
      "8 0.7054171628173714\n",
      "9 0.7248286576195937\n",
      "10 0.689386861541976\n",
      "11 0.7201766529716206\n",
      "12 0.7329626049545236\n",
      "13 0.7409545468434043\n",
      "14 0.7466327795706269\n",
      "15 0.7590480315543062\n",
      "16 0.7614821605480093\n",
      "17 0.7561953757439316\n",
      "18 0.7357260844222578\n",
      "19 0.7394926353936104\n",
      "20 0.6991790377121798\n",
      "21 0.7075226314005709\n",
      "22 0.6984170696939037\n",
      "23 0.6518560698499154\n",
      "24 0.692737658595242\n",
      "25 0.6231277998861884\n",
      "26 0.6424122841333305\n",
      "27 0.630983182878539\n",
      "28 0.6494707478889343\n",
      "29 0.6888141548282886\n",
      "30 0.6345825529454152\n",
      "31 0.6861626723203716\n",
      "32 0.6323820197257443\n",
      "33 0.6544744560445475\n",
      "34 0.6680206773750154\n",
      "35 0.6714016806337765\n",
      "36 0.6819465830299378\n",
      "37 0.6857687889920675\n",
      "38 0.654320849575078\n",
      "39 0.6563651009140491\n",
      "40 0.6588804892961764\n",
      "41 0.6821951325428064\n",
      "42 0.6819075072495737\n",
      "43 0.6470972407179191\n",
      "44 0.66997151819204\n",
      "45 0.6801681447133426\n",
      "46 0.668629728458645\n",
      "47 0.6493986828473696\n",
      "48 0.6791167866560223\n",
      "49 0.6701941850023428\n",
      "50 0.6905668613333957\n"
     ]
    }
   ],
   "source": [
    "for i in range(3,100):\n",
    "    Kmeans_model=KMeans(n_clusters=i).fit(Final)\n",
    "    labels=Kmeans_model.labels_\n",
    "    print(i,silhouette_score(Final,labels))"
   ]
  },
  {
   "cell_type": "code",
   "execution_count": null,
   "metadata": {
    "collapsed": true
   },
   "outputs": [],
   "source": [
    "Kmeans_model=KMeans(n_clusters=65).fit(Final)\n",
    "labels=Kmeans_model.labels_"
   ]
  },
  {
   "cell_type": "code",
   "execution_count": null,
   "metadata": {
    "collapsed": true
   },
   "outputs": [],
   "source": [
    "labels"
   ]
  },
  {
   "cell_type": "code",
   "execution_count": null,
   "metadata": {
    "collapsed": true
   },
   "outputs": [],
   "source": [
    "Score=pd.DataFrame(labels,columns=['Similarity'])"
   ]
  },
  {
   "cell_type": "code",
   "execution_count": null,
   "metadata": {
    "collapsed": true
   },
   "outputs": [],
   "source": [
    "pd.concat([Final,Score],axis=1).to_csv(\"Unique.csv\",index=False)"
   ]
  },
  {
   "cell_type": "code",
   "execution_count": null,
   "metadata": {
    "collapsed": true
   },
   "outputs": [],
   "source": []
  }
 ],
 "metadata": {
  "kernelspec": {
   "display_name": "Python 3",
   "language": "python",
   "name": "python3"
  },
  "language_info": {
   "codemirror_mode": {
    "name": "ipython",
    "version": 3
   },
   "file_extension": ".py",
   "mimetype": "text/x-python",
   "name": "python",
   "nbconvert_exporter": "python",
   "pygments_lexer": "ipython3",
   "version": "3.6.1"
  }
 },
 "nbformat": 4,
 "nbformat_minor": 2
}
