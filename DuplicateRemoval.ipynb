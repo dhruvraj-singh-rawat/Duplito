{
 "cells": [
  {
   "cell_type": "markdown",
   "metadata": {},
   "source": [
    "# Importing Dependencies"
   ]
  },
  {
   "cell_type": "code",
   "execution_count": 176,
   "metadata": {
    "collapsed": true
   },
   "outputs": [],
   "source": [
    "import pandas as pd"
   ]
  },
  {
   "cell_type": "code",
   "execution_count": 206,
   "metadata": {
    "collapsed": true
   },
   "outputs": [],
   "source": [
    "df=pd.read_csv('Deduplication Problem - Sample Dataset.csv')"
   ]
  },
  {
   "cell_type": "code",
   "execution_count": 178,
   "metadata": {},
   "outputs": [
    {
     "data": {
      "text/html": [
       "<div>\n",
       "<style>\n",
       "    .dataframe thead tr:only-child th {\n",
       "        text-align: right;\n",
       "    }\n",
       "\n",
       "    .dataframe thead th {\n",
       "        text-align: left;\n",
       "    }\n",
       "\n",
       "    .dataframe tbody tr th {\n",
       "        vertical-align: top;\n",
       "    }\n",
       "</style>\n",
       "<table border=\"1\" class=\"dataframe\">\n",
       "  <thead>\n",
       "    <tr style=\"text-align: right;\">\n",
       "      <th></th>\n",
       "      <th>ln</th>\n",
       "      <th>dob</th>\n",
       "      <th>gn</th>\n",
       "      <th>fn</th>\n",
       "    </tr>\n",
       "  </thead>\n",
       "  <tbody>\n",
       "    <tr>\n",
       "      <th>0</th>\n",
       "      <td>SMITH JR</td>\n",
       "      <td>01-03-68</td>\n",
       "      <td>F</td>\n",
       "      <td>WILLIAM</td>\n",
       "    </tr>\n",
       "    <tr>\n",
       "      <th>1</th>\n",
       "      <td>ROTHMEYER JR</td>\n",
       "      <td>01-03-68</td>\n",
       "      <td>F</td>\n",
       "      <td>WILLIAM</td>\n",
       "    </tr>\n",
       "    <tr>\n",
       "      <th>2</th>\n",
       "      <td>ASBY JR</td>\n",
       "      <td>01-03-68</td>\n",
       "      <td>F</td>\n",
       "      <td>WILLIAM</td>\n",
       "    </tr>\n",
       "    <tr>\n",
       "      <th>3</th>\n",
       "      <td>SALTER JR</td>\n",
       "      <td>01-03-68</td>\n",
       "      <td>F</td>\n",
       "      <td>WILLIAM</td>\n",
       "    </tr>\n",
       "    <tr>\n",
       "      <th>4</th>\n",
       "      <td>SALTER JR</td>\n",
       "      <td>01-03-68</td>\n",
       "      <td>F</td>\n",
       "      <td>WILLIAM</td>\n",
       "    </tr>\n",
       "    <tr>\n",
       "      <th>5</th>\n",
       "      <td>BLAND JR</td>\n",
       "      <td>21-02-62</td>\n",
       "      <td>F</td>\n",
       "      <td>WILLIAM</td>\n",
       "    </tr>\n",
       "    <tr>\n",
       "      <th>6</th>\n",
       "      <td>BLAND JR</td>\n",
       "      <td>21-02-62</td>\n",
       "      <td>F</td>\n",
       "      <td>WILLIAM</td>\n",
       "    </tr>\n",
       "    <tr>\n",
       "      <th>7</th>\n",
       "      <td>BLAND JR</td>\n",
       "      <td>21-02-62</td>\n",
       "      <td>F</td>\n",
       "      <td>WILLIAM</td>\n",
       "    </tr>\n",
       "  </tbody>\n",
       "</table>\n",
       "</div>"
      ],
      "text/plain": [
       "             ln       dob gn       fn\n",
       "0      SMITH JR  01-03-68  F  WILLIAM\n",
       "1  ROTHMEYER JR  01-03-68  F  WILLIAM\n",
       "2       ASBY JR  01-03-68  F  WILLIAM\n",
       "3     SALTER JR  01-03-68  F  WILLIAM\n",
       "4     SALTER JR  01-03-68  F  WILLIAM\n",
       "5      BLAND JR  21-02-62  F  WILLIAM\n",
       "6      BLAND JR  21-02-62  F  WILLIAM\n",
       "7      BLAND JR  21-02-62  F  WILLIAM"
      ]
     },
     "execution_count": 178,
     "metadata": {},
     "output_type": "execute_result"
    }
   ],
   "source": [
    "df.head(8)"
   ]
  },
  {
   "cell_type": "code",
   "execution_count": 179,
   "metadata": {},
   "outputs": [
    {
     "data": {
      "text/html": [
       "<div>\n",
       "<style>\n",
       "    .dataframe thead tr:only-child th {\n",
       "        text-align: right;\n",
       "    }\n",
       "\n",
       "    .dataframe thead th {\n",
       "        text-align: left;\n",
       "    }\n",
       "\n",
       "    .dataframe tbody tr th {\n",
       "        vertical-align: top;\n",
       "    }\n",
       "</style>\n",
       "<table border=\"1\" class=\"dataframe\">\n",
       "  <thead>\n",
       "    <tr style=\"text-align: right;\">\n",
       "      <th></th>\n",
       "      <th>ln</th>\n",
       "      <th>dob</th>\n",
       "      <th>gn</th>\n",
       "      <th>fn</th>\n",
       "    </tr>\n",
       "  </thead>\n",
       "  <tbody>\n",
       "    <tr>\n",
       "      <th>count</th>\n",
       "      <td>106</td>\n",
       "      <td>106</td>\n",
       "      <td>106</td>\n",
       "      <td>106</td>\n",
       "    </tr>\n",
       "    <tr>\n",
       "      <th>unique</th>\n",
       "      <td>31</td>\n",
       "      <td>23</td>\n",
       "      <td>2</td>\n",
       "      <td>27</td>\n",
       "    </tr>\n",
       "    <tr>\n",
       "      <th>top</th>\n",
       "      <td>MICHAELSON JR</td>\n",
       "      <td>07-10-37</td>\n",
       "      <td>M</td>\n",
       "      <td>HAROLD</td>\n",
       "    </tr>\n",
       "    <tr>\n",
       "      <th>freq</th>\n",
       "      <td>22</td>\n",
       "      <td>24</td>\n",
       "      <td>80</td>\n",
       "      <td>24</td>\n",
       "    </tr>\n",
       "  </tbody>\n",
       "</table>\n",
       "</div>"
      ],
      "text/plain": [
       "                   ln       dob   gn      fn\n",
       "count             106       106  106     106\n",
       "unique             31        23    2      27\n",
       "top     MICHAELSON JR  07-10-37    M  HAROLD\n",
       "freq               22        24   80      24"
      ]
     },
     "execution_count": 179,
     "metadata": {},
     "output_type": "execute_result"
    }
   ],
   "source": [
    "df.describe()"
   ]
  },
  {
   "cell_type": "code",
   "execution_count": 180,
   "metadata": {},
   "outputs": [
    {
     "data": {
      "text/plain": [
       "ln     31\n",
       "dob    23\n",
       "gn      2\n",
       "fn     27\n",
       "dtype: int64"
      ]
     },
     "execution_count": 180,
     "metadata": {},
     "output_type": "execute_result"
    }
   ],
   "source": [
    "df.nunique()"
   ]
  },
  {
   "cell_type": "markdown",
   "metadata": {},
   "source": [
    "## Vectorizing the Text & Seperating Dates"
   ]
  },
  {
   "cell_type": "code",
   "execution_count": 181,
   "metadata": {
    "collapsed": true
   },
   "outputs": [],
   "source": [
    "from sklearn.feature_extraction.text import CountVectorizer\n",
    "\n",
    "\n",
    "#from sklearn.feature_extraction.text import TfidfVectorizer\n"
   ]
  },
  {
   "cell_type": "code",
   "execution_count": 207,
   "metadata": {
    "collapsed": true
   },
   "outputs": [],
   "source": [
    "df['day']=pd.to_datetime(df['dob']).dt.day\n",
    "df['month']=pd.to_datetime(df['dob']).dt.month\n",
    "df['year']=pd.to_datetime(df['dob']).dt.year"
   ]
  },
  {
   "cell_type": "code",
   "execution_count": 208,
   "metadata": {
    "collapsed": true
   },
   "outputs": [],
   "source": [
    "df.drop('dob',axis=1,inplace=True)"
   ]
  },
  {
   "cell_type": "code",
   "execution_count": 209,
   "metadata": {
    "collapsed": true
   },
   "outputs": [],
   "source": [
    "gender_dummie=pd.get_dummies(df['gn'])"
   ]
  },
  {
   "cell_type": "code",
   "execution_count": 210,
   "metadata": {
    "collapsed": true
   },
   "outputs": [],
   "source": [
    "df=pd.concat([df,gender_dummie],axis=1)\n",
    "df.drop('gn',axis=1,inplace=True)"
   ]
  },
  {
   "cell_type": "code",
   "execution_count": 211,
   "metadata": {
    "collapsed": true
   },
   "outputs": [],
   "source": [
    "from sklearn.cluster import KMeans\n",
    "K=KMeans()"
   ]
  },
  {
   "cell_type": "code",
   "execution_count": 212,
   "metadata": {},
   "outputs": [],
   "source": [
    "vectorizer = CountVectorizer()\n",
    "Vect1=vectorizer.fit_transform(df['fn'])\n",
    "vectorizer.get_feature_names()\n",
    "FirstNameCol=pd.DataFrame(Vect1.toarray(),columns=vectorizer.get_feature_names())\n",
    "\n",
    "vectorizer = CountVectorizer()\n",
    "vectorizer=CountVectorizer()\n",
    "Vect2=vectorizer.fit_transform(df['ln'])\n",
    "SecondNameCol=pd.DataFrame(Vect2.toarray(),columns=vectorizer.get_feature_names())"
   ]
  },
  {
   "cell_type": "code",
   "execution_count": 213,
   "metadata": {
    "collapsed": true
   },
   "outputs": [],
   "source": [
    "Final=pd.concat([df,FirstNameCol,SecondNameCol],axis=1)"
   ]
  },
  {
   "cell_type": "code",
   "execution_count": 214,
   "metadata": {
    "collapsed": true
   },
   "outputs": [],
   "source": [
    "Final.drop(['ln','fn'],axis=1,inplace=True)\n"
   ]
  },
  {
   "cell_type": "markdown",
   "metadata": {},
   "source": [
    "## Creating Manual Feature"
   ]
  },
  {
   "cell_type": "code",
   "execution_count": 215,
   "metadata": {
    "collapsed": true
   },
   "outputs": [],
   "source": [
    "from sklearn.metrics.pairwise import cosine_similarity\n"
   ]
  },
  {
   "cell_type": "code",
   "execution_count": 216,
   "metadata": {},
   "outputs": [],
   "source": [
    "len_fn=[]\n",
    "len_ln=[]\n",
    "\n",
    "for i in range(len(df)):\n",
    "    len_fn.append('fn'+str(i))\n",
    "    len_ln.append('ln'+str(i))\n",
    "    \n"
   ]
  },
  {
   "cell_type": "code",
   "execution_count": 217,
   "metadata": {},
   "outputs": [],
   "source": [
    "fn_df=pd.DataFrame(3*cosine_similarity(Vect1[:], Vect1),columns=len_fn)\n",
    "ln_df=pd.DataFrame(3*cosine_similarity(Vect2[:], Vect2),columns=len_ln)\n",
    "Final_1=pd.concat([Final,fn_df,ln_df],axis=1)"
   ]
  },
  {
   "cell_type": "code",
   "execution_count": 218,
   "metadata": {},
   "outputs": [
    {
     "data": {
      "text/plain": [
       "(106, 106, 106, 106)"
      ]
     },
     "execution_count": 218,
     "metadata": {},
     "output_type": "execute_result"
    }
   ],
   "source": [
    "2*cosine_similarity(Vect1[:], Vect1).shape"
   ]
  },
  {
   "cell_type": "markdown",
   "metadata": {},
   "source": [
    "documents = (\n",
    "    \"Dhruv Rawat\",\n",
    "    \"Dhruv Raj Rawat\",\n",
    "    \"Dhruv Raj Singh Rawat\",\n",
    "    \"Dhruv asd\"\n",
    "    )\n",
    "tfidf_vectorizer = TfidfVectorizer()\n",
    "tfidf_matrix = tfidf_vectorizer.fit_transform(documents)\n",
    "cosine_similarity(tfidf_matrix[:], tfidf_matrix).shape\n"
   ]
  },
  {
   "cell_type": "markdown",
   "metadata": {},
   "source": [
    "# Evaluation"
   ]
  },
  {
   "cell_type": "code",
   "execution_count": 219,
   "metadata": {},
   "outputs": [],
   "source": [
    "from sklearn.metrics import silhouette_score,silhouette_samples"
   ]
  },
  {
   "cell_type": "code",
   "execution_count": 220,
   "metadata": {},
   "outputs": [
    {
     "name": "stdout",
     "output_type": "stream",
     "text": [
      "3 0.34532688744979134\n",
      "4 0.3668570761066961\n",
      "5 0.39315888141036875\n",
      "6 0.42313799433464966\n",
      "7 0.44981732512735423\n",
      "8 0.45253111209108615\n",
      "9 0.49182858890939274\n",
      "10 0.5143251607959993\n",
      "11 0.5297457124353299\n",
      "12 0.5260346534667377\n",
      "13 0.5343005857066097\n",
      "14 0.5601898589699134\n",
      "15 0.5618798746186673\n",
      "16 0.5862513378943534\n",
      "17 0.5749148605985998\n",
      "18 0.6146381990083721\n",
      "19 0.6134987761773418\n",
      "20 0.6428530792049946\n",
      "21 0.6493984533819891\n",
      "22 0.6346311627972301\n",
      "23 0.6622064032191143\n",
      "24 0.6624633436593649\n",
      "25 0.6054526848795222\n",
      "26 0.61175487941995\n",
      "27 0.6244862401251438\n",
      "28 0.6702824807764063\n",
      "29 0.6646314328216474\n",
      "30 0.6636289338968137\n",
      "31 0.6972769395727368\n",
      "32 0.6809386365349744\n",
      "33 0.6751678829532399\n",
      "34 0.6897330357247387\n",
      "35 0.7027444252287398\n",
      "36 0.7208930513378927\n",
      "37 0.7192805610348382\n",
      "38 0.7322919505388393\n",
      "39 0.7282364032868134\n",
      "40 0.7465027368921261\n",
      "41 0.7517961656755097\n",
      "42 0.7672215445217013\n",
      "43 0.7645440331800258\n",
      "44 0.7640010423613078\n",
      "45 0.76520767568547\n",
      "46 0.7565227361193424\n",
      "47 0.7635725459499509\n",
      "48 0.7418044217724954\n",
      "49 0.7413455368882456\n",
      "50 0.7312628990991836\n",
      "51 0.7320100740671975\n",
      "52 0.7102419498897419\n",
      "53 0.6974889411559756\n",
      "54 0.6967773834249753\n",
      "55 0.6894743900634297\n",
      "56 0.695149025389635\n",
      "57 0.683926199121259\n",
      "58 0.6842070424465574\n",
      "59 0.6816012237177146\n",
      "60 0.6660732195739476\n",
      "61 0.6457544874565422\n",
      "62 0.6383711827720346\n",
      "63 0.6320754716981132\n",
      "64 0.6320754716981132\n",
      "65 0.6320754716981132\n",
      "66 0.6320754716981132\n",
      "67 0.6320754716981132\n",
      "68 0.6320754716981132\n",
      "69 0.6320754716981132\n",
      "70 0.6320754716981132\n",
      "71 0.6320754716981132\n",
      "72 0.6320754716981132\n",
      "73 0.6320754716981132\n",
      "74 0.6320754716981132\n",
      "75 0.6320754716981132\n",
      "76 0.6320754716981132\n",
      "77 0.6320754716981132\n",
      "78 0.6320754716981132\n",
      "79 0.6320754716981132\n",
      "80 0.6320754716981132\n",
      "81 0.6320754716981132\n",
      "82 0.6320754716981132\n",
      "83 0.6320754716981132\n",
      "84 0.6320754716981132\n",
      "85 0.6320754716981132\n",
      "86 0.6320754716981132\n",
      "87 0.6320754716981132\n",
      "88 0.6320754716981132\n",
      "89 0.6320754716981132\n",
      "90 0.6320754716981132\n",
      "91 0.6320754716981132\n",
      "92 0.6320754716981132\n",
      "93 0.6320754716981132\n",
      "94 0.6320754716981132\n",
      "95 0.6320754716981132\n",
      "96 0.6320754716981132\n",
      "97 0.6320754716981132\n",
      "98 0.6320754716981132\n",
      "99 0.6320754716981132\n"
     ]
    }
   ],
   "source": [
    "for i in range(3,100):\n",
    "    Kmeans_model=KMeans(n_clusters=i).fit(Final_1)\n",
    "    labels=Kmeans_model.labels_\n",
    "    print(i,silhouette_score(Final_1,labels))"
   ]
  },
  {
   "cell_type": "code",
   "execution_count": 229,
   "metadata": {
    "collapsed": true
   },
   "outputs": [],
   "source": [
    "Kmeans_model=KMeans(n_clusters=42).fit(Final_1)\n",
    "labels=Kmeans_model.labels_"
   ]
  },
  {
   "cell_type": "code",
   "execution_count": 230,
   "metadata": {},
   "outputs": [
    {
     "data": {
      "text/plain": [
       "array([ 1,  1,  1,  1,  1, 11, 11, 11, 38, 38, 21, 24, 21, 11, 16, 16,  2,\n",
       "        2,  2,  7, 36,  7, 36, 18, 15, 18, 15, 39,  9,  9, 25, 14, 14, 28,\n",
       "       28, 41, 41, 41, 10, 10, 33, 33, 30, 30, 22, 13, 13, 31,  0,  0, 26,\n",
       "       26, 26,  8,  8,  8,  8,  8, 37, 37, 17, 35, 40, 40,  3,  3, 20, 20,\n",
       "       20, 20, 20, 20, 20, 20, 20, 27, 27, 27, 27, 32, 32,  3, 27, 27,  3,\n",
       "        3,  5,  5, 34, 34, 19, 19, 19, 34, 23,  4, 23, 23, 23, 29, 12, 12,\n",
       "       12,  6,  6,  6])"
      ]
     },
     "execution_count": 230,
     "metadata": {},
     "output_type": "execute_result"
    }
   ],
   "source": [
    "labels"
   ]
  },
  {
   "cell_type": "code",
   "execution_count": 227,
   "metadata": {
    "collapsed": true
   },
   "outputs": [],
   "source": [
    "Score=pd.DataFrame(labels,columns=['Similarity'])"
   ]
  },
  {
   "cell_type": "code",
   "execution_count": 231,
   "metadata": {},
   "outputs": [],
   "source": [
    "pd.concat([df,Score],axis=1).to_csv(\"clustered_2.csv\",index=False)\n"
   ]
  },
  {
   "cell_type": "code",
   "execution_count": null,
   "metadata": {
    "collapsed": true
   },
   "outputs": [],
   "source": []
  },
  {
   "cell_type": "code",
   "execution_count": null,
   "metadata": {
    "collapsed": true
   },
   "outputs": [],
   "source": []
  }
 ],
 "metadata": {
  "kernelspec": {
   "display_name": "Python 3",
   "language": "python",
   "name": "python3"
  },
  "language_info": {
   "codemirror_mode": {
    "name": "ipython",
    "version": 3
   },
   "file_extension": ".py",
   "mimetype": "text/x-python",
   "name": "python",
   "nbconvert_exporter": "python",
   "pygments_lexer": "ipython3",
   "version": "3.6.1"
  }
 },
 "nbformat": 4,
 "nbformat_minor": 2
}
