{
 "cells": [
  {
   "cell_type": "markdown",
   "metadata": {},
   "source": [
    "# Importing Dependencies"
   ]
  },
  {
   "cell_type": "code",
   "execution_count": 24,
   "metadata": {
    "collapsed": true
   },
   "outputs": [],
   "source": [
    "import pandas as pd"
   ]
  },
  {
   "cell_type": "code",
   "execution_count": 93,
   "metadata": {
    "collapsed": true
   },
   "outputs": [],
   "source": [
    "df=pd.read_csv('Deduplication Problem - Sample Dataset.csv')"
   ]
  },
  {
   "cell_type": "code",
   "execution_count": 26,
   "metadata": {},
   "outputs": [
    {
     "data": {
      "text/html": [
       "<div>\n",
       "<style>\n",
       "    .dataframe thead tr:only-child th {\n",
       "        text-align: right;\n",
       "    }\n",
       "\n",
       "    .dataframe thead th {\n",
       "        text-align: left;\n",
       "    }\n",
       "\n",
       "    .dataframe tbody tr th {\n",
       "        vertical-align: top;\n",
       "    }\n",
       "</style>\n",
       "<table border=\"1\" class=\"dataframe\">\n",
       "  <thead>\n",
       "    <tr style=\"text-align: right;\">\n",
       "      <th></th>\n",
       "      <th>ln</th>\n",
       "      <th>dob</th>\n",
       "      <th>gn</th>\n",
       "      <th>fn</th>\n",
       "    </tr>\n",
       "  </thead>\n",
       "  <tbody>\n",
       "    <tr>\n",
       "      <th>0</th>\n",
       "      <td>SMITH JR</td>\n",
       "      <td>01-03-68</td>\n",
       "      <td>F</td>\n",
       "      <td>WILLIAM</td>\n",
       "    </tr>\n",
       "    <tr>\n",
       "      <th>1</th>\n",
       "      <td>ROTHMEYER JR</td>\n",
       "      <td>01-03-68</td>\n",
       "      <td>F</td>\n",
       "      <td>WILLIAM</td>\n",
       "    </tr>\n",
       "    <tr>\n",
       "      <th>2</th>\n",
       "      <td>ASBY JR</td>\n",
       "      <td>01-03-68</td>\n",
       "      <td>F</td>\n",
       "      <td>WILLIAM</td>\n",
       "    </tr>\n",
       "    <tr>\n",
       "      <th>3</th>\n",
       "      <td>SALTER JR</td>\n",
       "      <td>01-03-68</td>\n",
       "      <td>F</td>\n",
       "      <td>WILLIAM</td>\n",
       "    </tr>\n",
       "    <tr>\n",
       "      <th>4</th>\n",
       "      <td>SALTER JR</td>\n",
       "      <td>01-03-68</td>\n",
       "      <td>F</td>\n",
       "      <td>WILLIAM</td>\n",
       "    </tr>\n",
       "    <tr>\n",
       "      <th>5</th>\n",
       "      <td>BLAND JR</td>\n",
       "      <td>21-02-62</td>\n",
       "      <td>F</td>\n",
       "      <td>WILLIAM</td>\n",
       "    </tr>\n",
       "    <tr>\n",
       "      <th>6</th>\n",
       "      <td>BLAND JR</td>\n",
       "      <td>21-02-62</td>\n",
       "      <td>F</td>\n",
       "      <td>WILLIAM</td>\n",
       "    </tr>\n",
       "    <tr>\n",
       "      <th>7</th>\n",
       "      <td>BLAND JR</td>\n",
       "      <td>21-02-62</td>\n",
       "      <td>F</td>\n",
       "      <td>WILLIAM</td>\n",
       "    </tr>\n",
       "  </tbody>\n",
       "</table>\n",
       "</div>"
      ],
      "text/plain": [
       "             ln       dob gn       fn\n",
       "0      SMITH JR  01-03-68  F  WILLIAM\n",
       "1  ROTHMEYER JR  01-03-68  F  WILLIAM\n",
       "2       ASBY JR  01-03-68  F  WILLIAM\n",
       "3     SALTER JR  01-03-68  F  WILLIAM\n",
       "4     SALTER JR  01-03-68  F  WILLIAM\n",
       "5      BLAND JR  21-02-62  F  WILLIAM\n",
       "6      BLAND JR  21-02-62  F  WILLIAM\n",
       "7      BLAND JR  21-02-62  F  WILLIAM"
      ]
     },
     "execution_count": 26,
     "metadata": {},
     "output_type": "execute_result"
    }
   ],
   "source": [
    "df.head(8)"
   ]
  },
  {
   "cell_type": "code",
   "execution_count": 27,
   "metadata": {},
   "outputs": [
    {
     "data": {
      "text/html": [
       "<div>\n",
       "<style>\n",
       "    .dataframe thead tr:only-child th {\n",
       "        text-align: right;\n",
       "    }\n",
       "\n",
       "    .dataframe thead th {\n",
       "        text-align: left;\n",
       "    }\n",
       "\n",
       "    .dataframe tbody tr th {\n",
       "        vertical-align: top;\n",
       "    }\n",
       "</style>\n",
       "<table border=\"1\" class=\"dataframe\">\n",
       "  <thead>\n",
       "    <tr style=\"text-align: right;\">\n",
       "      <th></th>\n",
       "      <th>ln</th>\n",
       "      <th>dob</th>\n",
       "      <th>gn</th>\n",
       "      <th>fn</th>\n",
       "    </tr>\n",
       "  </thead>\n",
       "  <tbody>\n",
       "    <tr>\n",
       "      <th>count</th>\n",
       "      <td>106</td>\n",
       "      <td>106</td>\n",
       "      <td>106</td>\n",
       "      <td>106</td>\n",
       "    </tr>\n",
       "    <tr>\n",
       "      <th>unique</th>\n",
       "      <td>31</td>\n",
       "      <td>23</td>\n",
       "      <td>2</td>\n",
       "      <td>27</td>\n",
       "    </tr>\n",
       "    <tr>\n",
       "      <th>top</th>\n",
       "      <td>MICHAELSON JR</td>\n",
       "      <td>07-10-37</td>\n",
       "      <td>M</td>\n",
       "      <td>HAROLD</td>\n",
       "    </tr>\n",
       "    <tr>\n",
       "      <th>freq</th>\n",
       "      <td>22</td>\n",
       "      <td>24</td>\n",
       "      <td>80</td>\n",
       "      <td>24</td>\n",
       "    </tr>\n",
       "  </tbody>\n",
       "</table>\n",
       "</div>"
      ],
      "text/plain": [
       "                   ln       dob   gn      fn\n",
       "count             106       106  106     106\n",
       "unique             31        23    2      27\n",
       "top     MICHAELSON JR  07-10-37    M  HAROLD\n",
       "freq               22        24   80      24"
      ]
     },
     "execution_count": 27,
     "metadata": {},
     "output_type": "execute_result"
    }
   ],
   "source": [
    "df.describe()"
   ]
  },
  {
   "cell_type": "code",
   "execution_count": 28,
   "metadata": {},
   "outputs": [
    {
     "data": {
      "text/plain": [
       "ln     31\n",
       "dob    23\n",
       "gn      2\n",
       "fn     27\n",
       "dtype: int64"
      ]
     },
     "execution_count": 28,
     "metadata": {},
     "output_type": "execute_result"
    }
   ],
   "source": [
    "df.nunique()"
   ]
  },
  {
   "cell_type": "markdown",
   "metadata": {},
   "source": [
    "## Vectorizing the Text & Seperating Dates"
   ]
  },
  {
   "cell_type": "code",
   "execution_count": 91,
   "metadata": {
    "collapsed": true
   },
   "outputs": [],
   "source": [
    "from sklearn.feature_extraction.text import CountVectorizer\n",
    "\n",
    "\n",
    "#from sklearn.feature_extraction.text import TfidfVectorizer\n"
   ]
  },
  {
   "cell_type": "code",
   "execution_count": 30,
   "metadata": {
    "collapsed": true
   },
   "outputs": [],
   "source": [
    "df['day']=pd.to_datetime(df['dob']).dt.day\n",
    "df['month']=pd.to_datetime(df['dob']).dt.month\n",
    "df['year']=pd.to_datetime(df['dob']).dt.year"
   ]
  },
  {
   "cell_type": "code",
   "execution_count": 31,
   "metadata": {
    "collapsed": true
   },
   "outputs": [],
   "source": [
    "df.drop('dob',axis=1,inplace=True)"
   ]
  },
  {
   "cell_type": "code",
   "execution_count": 32,
   "metadata": {
    "collapsed": true
   },
   "outputs": [],
   "source": [
    "gender_dummie=pd.get_dummies(df['gn'])"
   ]
  },
  {
   "cell_type": "code",
   "execution_count": 33,
   "metadata": {
    "collapsed": true
   },
   "outputs": [],
   "source": [
    "df=pd.concat([df,gender_dummie],axis=1)\n",
    "df.drop('gn',axis=1,inplace=True)"
   ]
  },
  {
   "cell_type": "code",
   "execution_count": 34,
   "metadata": {
    "collapsed": true
   },
   "outputs": [],
   "source": [
    "from sklearn.cluster import KMeans\n",
    "K=KMeans()"
   ]
  },
  {
   "cell_type": "code",
   "execution_count": 141,
   "metadata": {},
   "outputs": [],
   "source": [
    "vectorizer = CountVectorizer()\n",
    "Vect1=vectorizer.fit_transform(df['fn'])\n",
    "vectorizer.get_feature_names()\n",
    "FirstNameCol=pd.DataFrame(Vect1.toarray(),columns=vectorizer.get_feature_names())\n",
    "\n",
    "vectorizer = CountVectorizer()\n",
    "vectorizer=CountVectorizer()\n",
    "Vect2=vectorizer.fit_transform(df['ln'])\n",
    "SecondNameCol=pd.DataFrame(Vect2.toarray(),columns=vectorizer.get_feature_names())"
   ]
  },
  {
   "cell_type": "code",
   "execution_count": 142,
   "metadata": {
    "collapsed": true
   },
   "outputs": [],
   "source": [
    "Final=pd.concat([df,FirstNameCol,SecondNameCol],axis=1)"
   ]
  },
  {
   "cell_type": "code",
   "execution_count": 143,
   "metadata": {
    "collapsed": true
   },
   "outputs": [],
   "source": [
    "Final.drop(['ln','fn'],axis=1,inplace=True)\n"
   ]
  },
  {
   "cell_type": "markdown",
   "metadata": {},
   "source": [
    "## Creating Manual Feature"
   ]
  },
  {
   "cell_type": "code",
   "execution_count": 145,
   "metadata": {
    "collapsed": true
   },
   "outputs": [],
   "source": [
    "from sklearn.metrics.pairwise import cosine_similarity\n"
   ]
  },
  {
   "cell_type": "code",
   "execution_count": 113,
   "metadata": {},
   "outputs": [],
   "source": [
    "lenn=[]\n",
    "similarity_fn=[]\n",
    "similarity_ln=[]\n",
    "\n",
    "for i in range(len(df)):\n",
    "    similarity_fn.append(2*cosine_similarity(Vect1[i], Vect1))\n",
    "    similarity_ln.append(2*cosine_similarity(Vect2[i], Vect2))\n",
    "    lenn.append(i)\n",
    "    "
   ]
  },
  {
   "cell_type": "code",
   "execution_count": 140,
   "metadata": {},
   "outputs": [
    {
     "data": {
      "text/plain": [
       "array([[1.        , 0.72272912, 0.54347455, 0.63295194]])"
      ]
     },
     "execution_count": 140,
     "metadata": {},
     "output_type": "execute_result"
    }
   ],
   "source": [
    "documents = (\n",
    "    \"Dhruv Rawat\",\n",
    "    \"Dhruv Raj Rawat\",\n",
    "    \"Dhruv Raj Singh Rawat\",\n",
    "    \"Dhruv\"\n",
    "    )\n",
    "tfidf_vectorizer = TfidfVectorizer()\n",
    "tfidf_matrix = tfidf_vectorizer.fit_transform(documents)\n",
    "cosine_similarity(tfidf_matrix[0:1], tfidf_matrix)\n"
   ]
  },
  {
   "cell_type": "code",
   "execution_count": 119,
   "metadata": {},
   "outputs": [
    {
     "ename": "AttributeError",
     "evalue": "'list' object has no attribute 'toarray'",
     "output_type": "error",
     "traceback": [
      "\u001b[1;31m---------------------------------------------------------------------------\u001b[0m",
      "\u001b[1;31mAttributeError\u001b[0m                            Traceback (most recent call last)",
      "\u001b[1;32m<ipython-input-119-bdb0674ef490>\u001b[0m in \u001b[0;36m<module>\u001b[1;34m()\u001b[0m\n\u001b[1;32m----> 1\u001b[1;33m \u001b[0msimilarity_fn_df\u001b[0m\u001b[1;33m=\u001b[0m\u001b[0mpd\u001b[0m\u001b[1;33m.\u001b[0m\u001b[0mDataFrame\u001b[0m\u001b[1;33m(\u001b[0m\u001b[0msimilarity_fn\u001b[0m\u001b[1;33m.\u001b[0m\u001b[0mtoarray\u001b[0m\u001b[1;33m(\u001b[0m\u001b[1;33m)\u001b[0m\u001b[1;33m,\u001b[0m\u001b[0mcolumns\u001b[0m\u001b[1;33m=\u001b[0m\u001b[0mlenn\u001b[0m\u001b[1;33m)\u001b[0m\u001b[1;33m\u001b[0m\u001b[0m\n\u001b[0m\u001b[0;32m      2\u001b[0m \u001b[0msimilarity_fn_df\u001b[0m\u001b[1;33m=\u001b[0m\u001b[0mpd\u001b[0m\u001b[1;33m.\u001b[0m\u001b[0mDataFrame\u001b[0m\u001b[1;33m(\u001b[0m\u001b[0msimilarity_fn\u001b[0m\u001b[1;33m.\u001b[0m\u001b[0mtoarray\u001b[0m\u001b[1;33m(\u001b[0m\u001b[1;33m)\u001b[0m\u001b[1;33m,\u001b[0m\u001b[0mcolumns\u001b[0m\u001b[1;33m=\u001b[0m\u001b[0mlenn\u001b[0m\u001b[1;33m)\u001b[0m\u001b[1;33m\u001b[0m\u001b[0m\n",
      "\u001b[1;31mAttributeError\u001b[0m: 'list' object has no attribute 'toarray'"
     ]
    }
   ],
   "source": [
    "similarity_fn_df=pd.DataFrame(similarity_fn.toarray(),columns=lenn)\n",
    "similarity_fn_df=pd.DataFrame(similarity_fn.toarray(),columns=lenn)"
   ]
  },
  {
   "cell_type": "code",
   "execution_count": 110,
   "metadata": {},
   "outputs": [],
   "source": [
    "\n"
   ]
  },
  {
   "cell_type": "code",
   "execution_count": 111,
   "metadata": {},
   "outputs": [
    {
     "data": {
      "text/html": [
       "<div>\n",
       "<style>\n",
       "    .dataframe thead tr:only-child th {\n",
       "        text-align: right;\n",
       "    }\n",
       "\n",
       "    .dataframe thead th {\n",
       "        text-align: left;\n",
       "    }\n",
       "\n",
       "    .dataframe tbody tr th {\n",
       "        vertical-align: top;\n",
       "    }\n",
       "</style>\n",
       "<table border=\"1\" class=\"dataframe\">\n",
       "  <thead>\n",
       "    <tr style=\"text-align: right;\">\n",
       "      <th></th>\n",
       "      <th>0</th>\n",
       "      <th>1</th>\n",
       "      <th>2</th>\n",
       "      <th>3</th>\n",
       "      <th>4</th>\n",
       "      <th>5</th>\n",
       "      <th>6</th>\n",
       "      <th>7</th>\n",
       "      <th>8</th>\n",
       "      <th>9</th>\n",
       "      <th>...</th>\n",
       "      <th>96</th>\n",
       "      <th>97</th>\n",
       "      <th>98</th>\n",
       "      <th>99</th>\n",
       "      <th>100</th>\n",
       "      <th>101</th>\n",
       "      <th>102</th>\n",
       "      <th>103</th>\n",
       "      <th>104</th>\n",
       "      <th>105</th>\n",
       "    </tr>\n",
       "  </thead>\n",
       "  <tbody>\n",
       "    <tr>\n",
       "      <th>0</th>\n",
       "      <td>2.0</td>\n",
       "      <td>2.0</td>\n",
       "      <td>2.0</td>\n",
       "      <td>2.0</td>\n",
       "      <td>2.0</td>\n",
       "      <td>2.0</td>\n",
       "      <td>2.0</td>\n",
       "      <td>2.0</td>\n",
       "      <td>2.0</td>\n",
       "      <td>2.0</td>\n",
       "      <td>...</td>\n",
       "      <td>0.0</td>\n",
       "      <td>0.0</td>\n",
       "      <td>0.0</td>\n",
       "      <td>0.0</td>\n",
       "      <td>0.0</td>\n",
       "      <td>0.0</td>\n",
       "      <td>0.0</td>\n",
       "      <td>0.0</td>\n",
       "      <td>0.0</td>\n",
       "      <td>0.0</td>\n",
       "    </tr>\n",
       "  </tbody>\n",
       "</table>\n",
       "<p>1 rows × 106 columns</p>\n",
       "</div>"
      ],
      "text/plain": [
       "   0    1    2    3    4    5    6    7    8    9   ...   96   97   98   99   \\\n",
       "0  2.0  2.0  2.0  2.0  2.0  2.0  2.0  2.0  2.0  2.0 ...   0.0  0.0  0.0  0.0   \n",
       "\n",
       "   100  101  102  103  104  105  \n",
       "0  0.0  0.0  0.0  0.0  0.0  0.0  \n",
       "\n",
       "[1 rows x 106 columns]"
      ]
     },
     "execution_count": 111,
     "metadata": {},
     "output_type": "execute_result"
    }
   ],
   "source": [
    "similarity_fn_df"
   ]
  },
  {
   "cell_type": "markdown",
   "metadata": {},
   "source": [
    "# Evaluation"
   ]
  },
  {
   "cell_type": "code",
   "execution_count": 38,
   "metadata": {},
   "outputs": [],
   "source": [
    "from sklearn.metrics import silhouette_score,silhouette_samples"
   ]
  },
  {
   "cell_type": "code",
   "execution_count": 39,
   "metadata": {},
   "outputs": [
    {
     "name": "stdout",
     "output_type": "stream",
     "text": [
      "3 0.5068730876428658\n",
      "4 0.5437471293448615\n",
      "5 0.5443847603259937\n",
      "6 0.5568184596644346\n",
      "7 0.5922436657978688\n",
      "8 0.6511833959724262\n",
      "9 0.710474069395153\n",
      "10 0.7293361822690109\n",
      "11 0.7543694951576349\n",
      "12 0.7248176022647028\n",
      "13 0.7372416876820521\n",
      "14 0.7450567103358028\n",
      "15 0.7571205872633404\n",
      "16 0.762638115290736\n",
      "17 0.7529578675641283\n",
      "18 0.7598661950221645\n",
      "19 0.73691713288784\n",
      "20 0.747636702299644\n",
      "21 0.7084640554959896\n",
      "22 0.7125709811790876\n",
      "23 0.7037231240490245\n",
      "24 0.658479888351564\n",
      "25 0.6609455041910807\n",
      "26 0.6997311082937872\n",
      "27 0.649303379589222\n",
      "28 0.6821558354428349\n",
      "29 0.6779223061130436\n",
      "30 0.6769936329723707\n",
      "31 0.6895805871017627\n",
      "32 0.716787614284042\n",
      "33 0.6926248657794108\n",
      "34 0.6893813549244217\n",
      "35 0.6759986986119794\n",
      "36 0.6709357287248313\n",
      "37 0.6549168286019597\n",
      "38 0.6887900220785186\n",
      "39 0.7037282165151095\n",
      "40 0.656166256419702\n",
      "41 0.6830529785877464\n",
      "42 0.6774886028447676\n",
      "43 0.6656043658405258\n",
      "44 0.6810591058220908\n",
      "45 0.6689505907321349\n",
      "46 0.6361269836933148\n",
      "47 0.6506856440746693\n",
      "48 0.6540063916164657\n",
      "49 0.6589058024622252\n",
      "50 0.6371949458853976\n",
      "51 0.6538780994227684\n",
      "52 0.6459491485773182\n",
      "53 0.6755819933742911\n",
      "54 0.6712054223795796\n",
      "55 0.6605489181132074\n",
      "56 0.6633120616869194\n",
      "57 0.6605489181132074\n",
      "58 0.6631047929809492\n",
      "59 0.6390123033447482\n",
      "60 0.6444798462419461\n",
      "61 0.6417167026682343\n",
      "62 0.634838615271825\n",
      "63 0.6320754716981132\n",
      "64 0.6320754716981132\n",
      "65 0.6320754716981132\n",
      "66 0.6320754716981132\n",
      "67 0.6320754716981132\n",
      "68 0.6320754716981132\n",
      "69 0.6320754716981132\n",
      "70 0.6320754716981132\n",
      "71 0.6320754716981132\n",
      "72 0.6320754716981132\n",
      "73 0.6320754716981132\n",
      "74 0.6320754716981132\n",
      "75 0.6320754716981132\n",
      "76 0.6320754716981132\n",
      "77 0.6320754716981132\n",
      "78 0.6320754716981132\n",
      "79 0.6320754716981132\n",
      "80 0.6320754716981132\n",
      "81 0.6320754716981132\n",
      "82 0.6320754716981132\n",
      "83 0.6320754716981132\n",
      "84 0.6320754716981132\n",
      "85 0.6320754716981132\n",
      "86 0.6320754716981132\n",
      "87 0.6320754716981132\n",
      "88 0.6320754716981132\n",
      "89 0.6320754716981132\n",
      "90 0.6320754716981132\n",
      "91 0.6320754716981132\n",
      "92 0.6320754716981132\n",
      "93 0.6320754716981132\n",
      "94 0.6320754716981132\n",
      "95 0.6320754716981132\n",
      "96 0.6320754716981132\n",
      "97 0.6320754716981132\n",
      "98 0.6320754716981132\n",
      "99 0.6320754716981132\n"
     ]
    }
   ],
   "source": [
    "for i in range(3,100):\n",
    "    Kmeans_model=KMeans(n_clusters=i).fit(Final)\n",
    "    labels=Kmeans_model.labels_\n",
    "    print(i,silhouette_score(Final,labels))"
   ]
  },
  {
   "cell_type": "code",
   "execution_count": 60,
   "metadata": {
    "collapsed": true
   },
   "outputs": [],
   "source": [
    "Kmeans_model=KMeans(n_clusters=60).fit(Final)\n",
    "labels=Kmeans_model.labels_"
   ]
  },
  {
   "cell_type": "code",
   "execution_count": 61,
   "metadata": {},
   "outputs": [
    {
     "data": {
      "text/plain": [
       "array([57, 38, 58,  1,  1, 28, 28, 28, 35, 35, 59, 36,  7, 28, 11, 11, 41,\n",
       "       41, 21, 44, 48, 33,  2, 19, 43, 19, 43, 15, 12, 12, 42, 18, 46, 39,\n",
       "       20, 27, 27, 27,  6,  6, 31, 31, 55, 14, 23, 49,  3,  8, 40, 40, 25,\n",
       "       25, 25, 24, 24, 34, 34, 34,  4,  4, 51, 13, 29, 29, 47, 54, 10, 10,\n",
       "       10, 10, 10, 10, 10, 10, 10, 26, 26, 26, 26, 37, 37, 52, 26, 26, 30,\n",
       "       30, 45, 32, 22, 56, 16, 16, 16, 53,  9,  9,  9,  9,  9, 17,  0,  0,\n",
       "        0, 50,  5,  5])"
      ]
     },
     "execution_count": 61,
     "metadata": {},
     "output_type": "execute_result"
    }
   ],
   "source": [
    "labels"
   ]
  },
  {
   "cell_type": "code",
   "execution_count": 64,
   "metadata": {
    "collapsed": true
   },
   "outputs": [],
   "source": [
    "Score=pd.DataFrame(labels,columns=['Similarity'])"
   ]
  },
  {
   "cell_type": "code",
   "execution_count": 66,
   "metadata": {},
   "outputs": [],
   "source": [
    "pd.concat([df,Score],axis=1).to_csv(\"clustered.csv\",index=False)\n"
   ]
  },
  {
   "cell_type": "code",
   "execution_count": null,
   "metadata": {
    "collapsed": true
   },
   "outputs": [],
   "source": []
  },
  {
   "cell_type": "code",
   "execution_count": null,
   "metadata": {
    "collapsed": true
   },
   "outputs": [],
   "source": []
  }
 ],
 "metadata": {
  "kernelspec": {
   "display_name": "Python 3",
   "language": "python",
   "name": "python3"
  },
  "language_info": {
   "codemirror_mode": {
    "name": "ipython",
    "version": 3
   },
   "file_extension": ".py",
   "mimetype": "text/x-python",
   "name": "python",
   "nbconvert_exporter": "python",
   "pygments_lexer": "ipython3",
   "version": "3.6.1"
  }
 },
 "nbformat": 4,
 "nbformat_minor": 2
}
