{
 "cells": [
  {
   "cell_type": "markdown",
   "metadata": {},
   "source": [
    "# Importing Dependencies"
   ]
  },
  {
   "cell_type": "code",
   "execution_count": 38,
   "metadata": {
    "collapsed": true
   },
   "outputs": [],
   "source": [
    "import pandas as pd"
   ]
  },
  {
   "cell_type": "code",
   "execution_count": 39,
   "metadata": {
    "collapsed": true
   },
   "outputs": [],
   "source": [
    "df=pd.read_csv('Deduplication Problem - Sample Dataset.csv')"
   ]
  },
  {
   "cell_type": "code",
   "execution_count": 40,
   "metadata": {},
   "outputs": [
    {
     "data": {
      "text/html": [
       "<div>\n",
       "<style>\n",
       "    .dataframe thead tr:only-child th {\n",
       "        text-align: right;\n",
       "    }\n",
       "\n",
       "    .dataframe thead th {\n",
       "        text-align: left;\n",
       "    }\n",
       "\n",
       "    .dataframe tbody tr th {\n",
       "        vertical-align: top;\n",
       "    }\n",
       "</style>\n",
       "<table border=\"1\" class=\"dataframe\">\n",
       "  <thead>\n",
       "    <tr style=\"text-align: right;\">\n",
       "      <th></th>\n",
       "      <th>ln</th>\n",
       "      <th>dob</th>\n",
       "      <th>gn</th>\n",
       "      <th>fn</th>\n",
       "    </tr>\n",
       "  </thead>\n",
       "  <tbody>\n",
       "    <tr>\n",
       "      <th>0</th>\n",
       "      <td>SMITH JR</td>\n",
       "      <td>01/03/68</td>\n",
       "      <td>F</td>\n",
       "      <td>WILLIAM</td>\n",
       "    </tr>\n",
       "    <tr>\n",
       "      <th>1</th>\n",
       "      <td>ROTHMEYER JR</td>\n",
       "      <td>01/03/68</td>\n",
       "      <td>F</td>\n",
       "      <td>WILLIAM</td>\n",
       "    </tr>\n",
       "    <tr>\n",
       "      <th>2</th>\n",
       "      <td>ASBY JR</td>\n",
       "      <td>01/03/68</td>\n",
       "      <td>F</td>\n",
       "      <td>WILLIAM</td>\n",
       "    </tr>\n",
       "    <tr>\n",
       "      <th>3</th>\n",
       "      <td>SALTER JR</td>\n",
       "      <td>01/03/68</td>\n",
       "      <td>F</td>\n",
       "      <td>WILLIAM</td>\n",
       "    </tr>\n",
       "    <tr>\n",
       "      <th>4</th>\n",
       "      <td>SALTER JR</td>\n",
       "      <td>01/03/68</td>\n",
       "      <td>F</td>\n",
       "      <td>WILLIAM</td>\n",
       "    </tr>\n",
       "    <tr>\n",
       "      <th>5</th>\n",
       "      <td>BLAND JR</td>\n",
       "      <td>21/02/62</td>\n",
       "      <td>F</td>\n",
       "      <td>WILLIAM</td>\n",
       "    </tr>\n",
       "    <tr>\n",
       "      <th>6</th>\n",
       "      <td>BLAND JR</td>\n",
       "      <td>21/02/62</td>\n",
       "      <td>F</td>\n",
       "      <td>WILLIAM</td>\n",
       "    </tr>\n",
       "    <tr>\n",
       "      <th>7</th>\n",
       "      <td>BLAND JR</td>\n",
       "      <td>21/02/62</td>\n",
       "      <td>F</td>\n",
       "      <td>WILLIAM</td>\n",
       "    </tr>\n",
       "  </tbody>\n",
       "</table>\n",
       "</div>"
      ],
      "text/plain": [
       "             ln       dob gn       fn\n",
       "0      SMITH JR  01/03/68  F  WILLIAM\n",
       "1  ROTHMEYER JR  01/03/68  F  WILLIAM\n",
       "2       ASBY JR  01/03/68  F  WILLIAM\n",
       "3     SALTER JR  01/03/68  F  WILLIAM\n",
       "4     SALTER JR  01/03/68  F  WILLIAM\n",
       "5      BLAND JR  21/02/62  F  WILLIAM\n",
       "6      BLAND JR  21/02/62  F  WILLIAM\n",
       "7      BLAND JR  21/02/62  F  WILLIAM"
      ]
     },
     "execution_count": 40,
     "metadata": {},
     "output_type": "execute_result"
    }
   ],
   "source": [
    "df.head(8)"
   ]
  },
  {
   "cell_type": "code",
   "execution_count": 41,
   "metadata": {},
   "outputs": [
    {
     "data": {
      "text/html": [
       "<div>\n",
       "<style>\n",
       "    .dataframe thead tr:only-child th {\n",
       "        text-align: right;\n",
       "    }\n",
       "\n",
       "    .dataframe thead th {\n",
       "        text-align: left;\n",
       "    }\n",
       "\n",
       "    .dataframe tbody tr th {\n",
       "        vertical-align: top;\n",
       "    }\n",
       "</style>\n",
       "<table border=\"1\" class=\"dataframe\">\n",
       "  <thead>\n",
       "    <tr style=\"text-align: right;\">\n",
       "      <th></th>\n",
       "      <th>ln</th>\n",
       "      <th>dob</th>\n",
       "      <th>gn</th>\n",
       "      <th>fn</th>\n",
       "    </tr>\n",
       "  </thead>\n",
       "  <tbody>\n",
       "    <tr>\n",
       "      <th>count</th>\n",
       "      <td>103</td>\n",
       "      <td>103</td>\n",
       "      <td>103</td>\n",
       "      <td>103</td>\n",
       "    </tr>\n",
       "    <tr>\n",
       "      <th>unique</th>\n",
       "      <td>28</td>\n",
       "      <td>22</td>\n",
       "      <td>2</td>\n",
       "      <td>26</td>\n",
       "    </tr>\n",
       "    <tr>\n",
       "      <th>top</th>\n",
       "      <td>MICHAELSON JR</td>\n",
       "      <td>07/10/37</td>\n",
       "      <td>M</td>\n",
       "      <td>HAROLD</td>\n",
       "    </tr>\n",
       "    <tr>\n",
       "      <th>freq</th>\n",
       "      <td>22</td>\n",
       "      <td>24</td>\n",
       "      <td>77</td>\n",
       "      <td>24</td>\n",
       "    </tr>\n",
       "  </tbody>\n",
       "</table>\n",
       "</div>"
      ],
      "text/plain": [
       "                   ln       dob   gn      fn\n",
       "count             103       103  103     103\n",
       "unique             28        22    2      26\n",
       "top     MICHAELSON JR  07/10/37    M  HAROLD\n",
       "freq               22        24   77      24"
      ]
     },
     "execution_count": 41,
     "metadata": {},
     "output_type": "execute_result"
    }
   ],
   "source": [
    "df.describe()"
   ]
  },
  {
   "cell_type": "code",
   "execution_count": 42,
   "metadata": {},
   "outputs": [
    {
     "data": {
      "text/plain": [
       "ln     28\n",
       "dob    22\n",
       "gn      2\n",
       "fn     26\n",
       "dtype: int64"
      ]
     },
     "execution_count": 42,
     "metadata": {},
     "output_type": "execute_result"
    }
   ],
   "source": [
    "df.nunique()"
   ]
  },
  {
   "cell_type": "markdown",
   "metadata": {},
   "source": [
    "## Vectorizing the Text & Seperating Dates"
   ]
  },
  {
   "cell_type": "code",
   "execution_count": 43,
   "metadata": {
    "collapsed": true
   },
   "outputs": [],
   "source": [
    "from sklearn.feature_extraction.text import CountVectorizer\n",
    "vectorizer=CountVectorizer()"
   ]
  },
  {
   "cell_type": "code",
   "execution_count": 44,
   "metadata": {
    "collapsed": true
   },
   "outputs": [],
   "source": [
    "df['day']=pd.to_datetime(df['dob']).dt.day\n",
    "df['month']=pd.to_datetime(df['dob']).dt.month\n",
    "df['year']=pd.to_datetime(df['dob']).dt.year"
   ]
  },
  {
   "cell_type": "code",
   "execution_count": 45,
   "metadata": {
    "collapsed": true
   },
   "outputs": [],
   "source": [
    "df.drop('dob',axis=1,inplace=True)"
   ]
  },
  {
   "cell_type": "code",
   "execution_count": 46,
   "metadata": {
    "collapsed": true
   },
   "outputs": [],
   "source": [
    "gender_dummie=pd.get_dummies(df['gn'])"
   ]
  },
  {
   "cell_type": "code",
   "execution_count": 47,
   "metadata": {
    "collapsed": true
   },
   "outputs": [],
   "source": [
    "df=pd.concat([df,gender_dummie],axis=1)\n",
    "df.drop('gn',axis=1,inplace=True)"
   ]
  },
  {
   "cell_type": "code",
   "execution_count": 48,
   "metadata": {
    "collapsed": true
   },
   "outputs": [],
   "source": [
    "from sklearn.cluster import KMeans\n",
    "K=KMeans()"
   ]
  },
  {
   "cell_type": "code",
   "execution_count": 49,
   "metadata": {
    "collapsed": true
   },
   "outputs": [],
   "source": [
    "Vect=vectorizer.fit_transform(df['fn'])\n",
    "Kmeans_model.fit(Vect.toarray())\n",
    "vectorizer.get_feature_names()\n",
    "\n",
    "FirstNameCol=pd.DataFrame(Vect.toarray(),columns=vectorizer.get_feature_names())\n",
    "vectorizer=CountVectorizer()\n",
    "Vect=vectorizer.fit_transform(df['ln'])\n",
    "\n",
    "SecondNameCol=pd.DataFrame(Vect.toarray(),columns=vectorizer.get_feature_names())"
   ]
  },
  {
   "cell_type": "code",
   "execution_count": 50,
   "metadata": {
    "collapsed": true
   },
   "outputs": [],
   "source": [
    "Final=pd.concat([df,FirstNameCol,SecondNameCol],axis=1)"
   ]
  },
  {
   "cell_type": "code",
   "execution_count": 60,
   "metadata": {},
   "outputs": [
    {
     "ename": "ValueError",
     "evalue": "labels ['ln' 'fn'] not contained in axis",
     "output_type": "error",
     "traceback": [
      "\u001b[1;31m---------------------------------------------------------------------------\u001b[0m",
      "\u001b[1;31mValueError\u001b[0m                                Traceback (most recent call last)",
      "\u001b[1;32m<ipython-input-60-a4de42e6ec0f>\u001b[0m in \u001b[0;36m<module>\u001b[1;34m()\u001b[0m\n\u001b[1;32m----> 1\u001b[1;33m \u001b[0mFinal\u001b[0m\u001b[1;33m.\u001b[0m\u001b[0mdrop\u001b[0m\u001b[1;33m(\u001b[0m\u001b[1;33m[\u001b[0m\u001b[1;34m'ln'\u001b[0m\u001b[1;33m,\u001b[0m\u001b[1;34m'fn'\u001b[0m\u001b[1;33m]\u001b[0m\u001b[1;33m,\u001b[0m\u001b[0maxis\u001b[0m\u001b[1;33m=\u001b[0m\u001b[1;36m1\u001b[0m\u001b[1;33m,\u001b[0m\u001b[0minplace\u001b[0m\u001b[1;33m=\u001b[0m\u001b[1;32mTrue\u001b[0m\u001b[1;33m)\u001b[0m\u001b[1;33m\u001b[0m\u001b[0m\n\u001b[0m\u001b[0;32m      2\u001b[0m \u001b[0mFinal\u001b[0m\u001b[1;33m\u001b[0m\u001b[0m\n",
      "\u001b[1;32m~\\AppData\\Local\\conda\\conda\\envs\\tensorflow\\lib\\site-packages\\pandas\\core\\generic.py\u001b[0m in \u001b[0;36mdrop\u001b[1;34m(self, labels, axis, level, inplace, errors)\u001b[0m\n\u001b[0;32m   2159\u001b[0m                 \u001b[0mnew_axis\u001b[0m \u001b[1;33m=\u001b[0m \u001b[0maxis\u001b[0m\u001b[1;33m.\u001b[0m\u001b[0mdrop\u001b[0m\u001b[1;33m(\u001b[0m\u001b[0mlabels\u001b[0m\u001b[1;33m,\u001b[0m \u001b[0mlevel\u001b[0m\u001b[1;33m=\u001b[0m\u001b[0mlevel\u001b[0m\u001b[1;33m,\u001b[0m \u001b[0merrors\u001b[0m\u001b[1;33m=\u001b[0m\u001b[0merrors\u001b[0m\u001b[1;33m)\u001b[0m\u001b[1;33m\u001b[0m\u001b[0m\n\u001b[0;32m   2160\u001b[0m             \u001b[1;32melse\u001b[0m\u001b[1;33m:\u001b[0m\u001b[1;33m\u001b[0m\u001b[0m\n\u001b[1;32m-> 2161\u001b[1;33m                 \u001b[0mnew_axis\u001b[0m \u001b[1;33m=\u001b[0m \u001b[0maxis\u001b[0m\u001b[1;33m.\u001b[0m\u001b[0mdrop\u001b[0m\u001b[1;33m(\u001b[0m\u001b[0mlabels\u001b[0m\u001b[1;33m,\u001b[0m \u001b[0merrors\u001b[0m\u001b[1;33m=\u001b[0m\u001b[0merrors\u001b[0m\u001b[1;33m)\u001b[0m\u001b[1;33m\u001b[0m\u001b[0m\n\u001b[0m\u001b[0;32m   2162\u001b[0m             \u001b[0mdropped\u001b[0m \u001b[1;33m=\u001b[0m \u001b[0mself\u001b[0m\u001b[1;33m.\u001b[0m\u001b[0mreindex\u001b[0m\u001b[1;33m(\u001b[0m\u001b[1;33m**\u001b[0m\u001b[1;33m{\u001b[0m\u001b[0maxis_name\u001b[0m\u001b[1;33m:\u001b[0m \u001b[0mnew_axis\u001b[0m\u001b[1;33m}\u001b[0m\u001b[1;33m)\u001b[0m\u001b[1;33m\u001b[0m\u001b[0m\n\u001b[0;32m   2163\u001b[0m             \u001b[1;32mtry\u001b[0m\u001b[1;33m:\u001b[0m\u001b[1;33m\u001b[0m\u001b[0m\n",
      "\u001b[1;32m~\\AppData\\Local\\conda\\conda\\envs\\tensorflow\\lib\\site-packages\\pandas\\core\\indexes\\base.py\u001b[0m in \u001b[0;36mdrop\u001b[1;34m(self, labels, errors)\u001b[0m\n\u001b[0;32m   3622\u001b[0m             \u001b[1;32mif\u001b[0m \u001b[0merrors\u001b[0m \u001b[1;33m!=\u001b[0m \u001b[1;34m'ignore'\u001b[0m\u001b[1;33m:\u001b[0m\u001b[1;33m\u001b[0m\u001b[0m\n\u001b[0;32m   3623\u001b[0m                 raise ValueError('labels %s not contained in axis' %\n\u001b[1;32m-> 3624\u001b[1;33m                                  labels[mask])\n\u001b[0m\u001b[0;32m   3625\u001b[0m             \u001b[0mindexer\u001b[0m \u001b[1;33m=\u001b[0m \u001b[0mindexer\u001b[0m\u001b[1;33m[\u001b[0m\u001b[1;33m~\u001b[0m\u001b[0mmask\u001b[0m\u001b[1;33m]\u001b[0m\u001b[1;33m\u001b[0m\u001b[0m\n\u001b[0;32m   3626\u001b[0m         \u001b[1;32mreturn\u001b[0m \u001b[0mself\u001b[0m\u001b[1;33m.\u001b[0m\u001b[0mdelete\u001b[0m\u001b[1;33m(\u001b[0m\u001b[0mindexer\u001b[0m\u001b[1;33m)\u001b[0m\u001b[1;33m\u001b[0m\u001b[0m\n",
      "\u001b[1;31mValueError\u001b[0m: labels ['ln' 'fn'] not contained in axis"
     ]
    }
   ],
   "source": [
    "Final.drop(['ln','fn'],axis=1,inplace=True)\n",
    "Final"
   ]
  },
  {
   "cell_type": "code",
   "execution_count": 61,
   "metadata": {},
   "outputs": [],
   "source": [
    "Kmeans_model=KMeans(n_clusters=29).fit(Final)\n"
   ]
  },
  {
   "cell_type": "markdown",
   "metadata": {},
   "source": [
    "# Evaluation"
   ]
  },
  {
   "cell_type": "code",
   "execution_count": 62,
   "metadata": {
    "collapsed": true
   },
   "outputs": [],
   "source": [
    "from sklearn.metrics import calinski_harabaz_score"
   ]
  },
  {
   "cell_type": "code",
   "execution_count": 64,
   "metadata": {},
   "outputs": [
    {
     "name": "stdout",
     "output_type": "stream",
     "text": [
      "3 0.5077386601873867\n",
      "4 0.5456565335175568\n",
      "5 0.547286146977991\n",
      "6 0.5837575652223966\n",
      "7 0.6340213775627886\n",
      "8 0.7054171628173714\n",
      "9 0.7248286576195937\n",
      "10 0.689386861541976\n",
      "11 0.7201766529716206\n",
      "12 0.7329626049545236\n",
      "13 0.7409545468434043\n",
      "14 0.7466327795706269\n",
      "15 0.7590480315543062\n",
      "16 0.7490858348647875\n",
      "17 0.7561953757439316\n",
      "18 0.7325778943241413\n",
      "19 0.7436096842042501\n",
      "20 0.7032960865228194\n",
      "21 0.7075226314005709\n",
      "22 0.6984170696939037\n",
      "23 0.6999881927337777\n",
      "24 0.6543934997430103\n",
      "25 0.6952750884883367\n",
      "26 0.6353400188878386\n",
      "27 0.7019621454827312\n",
      "28 0.6958208876597617\n",
      "29 0.6152000205689802\n",
      "30 0.6753037288657341\n",
      "31 0.7189403776480414\n",
      "32 0.7027393388672738\n",
      "33 0.6505066122813894\n",
      "34 0.6580827208931014\n",
      "35 0.6908711510802119\n",
      "36 0.6808721869016974\n",
      "37 0.6981577862051783\n",
      "38 0.6808074679837671\n",
      "39 0.6744046631128096\n",
      "40 0.6954053382084987\n",
      "41 0.6664865344631017\n",
      "42 0.6906863249268869\n",
      "43 0.6904311336515332\n",
      "44 0.6478311600005325\n",
      "45 0.6578436368454347\n",
      "46 0.6620871687197973\n",
      "47 0.6600928246671985\n",
      "48 0.6823530326107148\n",
      "49 0.687191891415204\n",
      "50 0.6724524383881958\n",
      "51 0.6799029228664205\n",
      "52 0.6648644705031987\n",
      "53 0.6413753553512345\n",
      "54 0.6531055714742494\n",
      "55 0.6618591087354294\n",
      "56 0.6618591087354294\n",
      "57 0.6547806886964062\n",
      "58 0.6604074804158528\n",
      "59 0.6533290603768296\n",
      "60 0.6504854368932039\n",
      "61 0.6504854368932039\n",
      "62 0.6504854368932039\n",
      "63 0.6504854368932039\n",
      "64 0.6504854368932039\n",
      "65 0.6504854368932039\n",
      "66 0.6504854368932039\n",
      "67 0.6504854368932039\n",
      "68 0.6504854368932039\n",
      "69 0.6504854368932039\n",
      "70 0.6504854368932039\n",
      "71 0.6504854368932039\n",
      "72 0.6504854368932039\n",
      "73 0.6504854368932039\n",
      "74 0.6504854368932039\n",
      "75 0.6504854368932039\n",
      "76 0.6504854368932039\n",
      "77 0.6504854368932039\n",
      "78 0.6504854368932039\n",
      "79 0.6504854368932039\n",
      "80 0.6504854368932039\n",
      "81 0.6504854368932039\n",
      "82 0.6504854368932039\n",
      "83 0.6504854368932039\n",
      "84 0.6504854368932039\n",
      "85 0.6504854368932039\n",
      "86 0.6504854368932039\n",
      "87 0.6504854368932039\n",
      "88 0.6504854368932039\n",
      "89 0.6504854368932039\n",
      "90 0.6504854368932039\n",
      "91 0.6504854368932039\n",
      "92 0.6504854368932039\n",
      "93 0.6504854368932039\n",
      "94 0.6504854368932039\n",
      "95 0.6504854368932039\n",
      "96 0.6504854368932039\n",
      "97 0.6504854368932039\n",
      "98 0.6504854368932039\n",
      "99 0.6504854368932039\n"
     ]
    }
   ],
   "source": [
    "for i in range(3,100):\n",
    "    Kmeans_model=KMeans(n_clusters=i).fit(Final)\n",
    "    labels=Kmeans_model.labels_\n",
    "    print(i,silhouette_score(Final,labels))"
   ]
  },
  {
   "cell_type": "code",
   "execution_count": 67,
   "metadata": {
    "collapsed": true
   },
   "outputs": [],
   "source": [
    "Kmeans_model=KMeans(n_clusters=65).fit(Final)\n",
    "labels=Kmeans_model.labels_"
   ]
  },
  {
   "cell_type": "code",
   "execution_count": 68,
   "metadata": {},
   "outputs": [
    {
     "data": {
      "text/plain": [
       "array([34, 56, 37,  1,  1,  2,  2,  2, 36, 36, 52, 55, 59,  2, 11, 11,  4,\n",
       "        4, 46, 25, 27, 41, 54, 38, 19, 38, 19, 14,  3,  3,  6, 49, 50, 53,\n",
       "       22, 26, 26, 26,  7,  7, 35, 35, 39, 12, 23, 17, 51, 57,  8,  8, 28,\n",
       "       28, 28, 24, 24,  5,  5,  5, 29, 29, 48, 30, 18, 18, 44, 47, 21, 21,\n",
       "       21, 21, 21, 21, 21, 21, 21, 20, 20, 20, 20,  0,  0, 43, 20, 20, 33,\n",
       "       33, 32, 31, 15, 45, 10, 10, 10, 42,  9, 58,  9,  9,  9, 13, 16, 40,\n",
       "       40])"
      ]
     },
     "execution_count": 68,
     "metadata": {},
     "output_type": "execute_result"
    }
   ],
   "source": [
    "labels"
   ]
  },
  {
   "cell_type": "code",
   "execution_count": 69,
   "metadata": {
    "collapsed": true
   },
   "outputs": [],
   "source": [
    "Score=pd.DataFrame(labels,columns=['Similarity'])"
   ]
  },
  {
   "cell_type": "code",
   "execution_count": 70,
   "metadata": {
    "collapsed": true
   },
   "outputs": [],
   "source": [
    "pd.concat([Final,Score],axis=1).to_csv(\"Unique.csv\",index=False)"
   ]
  },
  {
   "cell_type": "code",
   "execution_count": null,
   "metadata": {
    "collapsed": true
   },
   "outputs": [],
   "source": []
  }
 ],
 "metadata": {
  "kernelspec": {
   "display_name": "Python 3",
   "language": "python",
   "name": "python3"
  },
  "language_info": {
   "codemirror_mode": {
    "name": "ipython",
    "version": 3
   },
   "file_extension": ".py",
   "mimetype": "text/x-python",
   "name": "python",
   "nbconvert_exporter": "python",
   "pygments_lexer": "ipython3",
   "version": "3.6.1"
  }
 },
 "nbformat": 4,
 "nbformat_minor": 2
}
