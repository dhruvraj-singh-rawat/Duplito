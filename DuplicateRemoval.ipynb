{
 "cells": [
  {
   "cell_type": "markdown",
   "metadata": {},
   "source": [
    "# Importing Dependencies"
   ]
  },
  {
   "cell_type": "code",
   "execution_count": 232,
   "metadata": {
    "collapsed": true
   },
   "outputs": [],
   "source": [
    "import pandas as pd"
   ]
  },
  {
   "cell_type": "code",
   "execution_count": 233,
   "metadata": {
    "collapsed": true
   },
   "outputs": [],
   "source": [
    "df=pd.read_csv('Deduplication Problem - Sample Dataset.csv')"
   ]
  },
  {
   "cell_type": "code",
   "execution_count": 234,
   "metadata": {},
   "outputs": [
    {
     "data": {
      "text/html": [
       "<div>\n",
       "<style>\n",
       "    .dataframe thead tr:only-child th {\n",
       "        text-align: right;\n",
       "    }\n",
       "\n",
       "    .dataframe thead th {\n",
       "        text-align: left;\n",
       "    }\n",
       "\n",
       "    .dataframe tbody tr th {\n",
       "        vertical-align: top;\n",
       "    }\n",
       "</style>\n",
       "<table border=\"1\" class=\"dataframe\">\n",
       "  <thead>\n",
       "    <tr style=\"text-align: right;\">\n",
       "      <th></th>\n",
       "      <th>ln</th>\n",
       "      <th>dob</th>\n",
       "      <th>gn</th>\n",
       "      <th>fn</th>\n",
       "    </tr>\n",
       "  </thead>\n",
       "  <tbody>\n",
       "    <tr>\n",
       "      <th>0</th>\n",
       "      <td>SMITH JR</td>\n",
       "      <td>01-03-68</td>\n",
       "      <td>F</td>\n",
       "      <td>WILLIAM</td>\n",
       "    </tr>\n",
       "    <tr>\n",
       "      <th>1</th>\n",
       "      <td>ROTHMEYER JR</td>\n",
       "      <td>01-03-68</td>\n",
       "      <td>F</td>\n",
       "      <td>WILLIAM</td>\n",
       "    </tr>\n",
       "    <tr>\n",
       "      <th>2</th>\n",
       "      <td>ASBY JR</td>\n",
       "      <td>01-03-68</td>\n",
       "      <td>F</td>\n",
       "      <td>WILLIAM</td>\n",
       "    </tr>\n",
       "    <tr>\n",
       "      <th>3</th>\n",
       "      <td>SALTER JR</td>\n",
       "      <td>01-03-68</td>\n",
       "      <td>F</td>\n",
       "      <td>WILLIAM</td>\n",
       "    </tr>\n",
       "    <tr>\n",
       "      <th>4</th>\n",
       "      <td>SALTER JR</td>\n",
       "      <td>01-03-68</td>\n",
       "      <td>F</td>\n",
       "      <td>WILLIAM</td>\n",
       "    </tr>\n",
       "    <tr>\n",
       "      <th>5</th>\n",
       "      <td>BLAND JR</td>\n",
       "      <td>21-02-62</td>\n",
       "      <td>F</td>\n",
       "      <td>WILLIAM</td>\n",
       "    </tr>\n",
       "    <tr>\n",
       "      <th>6</th>\n",
       "      <td>BLAND JR</td>\n",
       "      <td>21-02-62</td>\n",
       "      <td>F</td>\n",
       "      <td>WILLIAM</td>\n",
       "    </tr>\n",
       "    <tr>\n",
       "      <th>7</th>\n",
       "      <td>BLAND JR</td>\n",
       "      <td>21-02-62</td>\n",
       "      <td>F</td>\n",
       "      <td>WILLIAM</td>\n",
       "    </tr>\n",
       "  </tbody>\n",
       "</table>\n",
       "</div>"
      ],
      "text/plain": [
       "             ln       dob gn       fn\n",
       "0      SMITH JR  01-03-68  F  WILLIAM\n",
       "1  ROTHMEYER JR  01-03-68  F  WILLIAM\n",
       "2       ASBY JR  01-03-68  F  WILLIAM\n",
       "3     SALTER JR  01-03-68  F  WILLIAM\n",
       "4     SALTER JR  01-03-68  F  WILLIAM\n",
       "5      BLAND JR  21-02-62  F  WILLIAM\n",
       "6      BLAND JR  21-02-62  F  WILLIAM\n",
       "7      BLAND JR  21-02-62  F  WILLIAM"
      ]
     },
     "execution_count": 234,
     "metadata": {},
     "output_type": "execute_result"
    }
   ],
   "source": [
    "df.head(8)"
   ]
  },
  {
   "cell_type": "code",
   "execution_count": 235,
   "metadata": {},
   "outputs": [
    {
     "data": {
      "text/html": [
       "<div>\n",
       "<style>\n",
       "    .dataframe thead tr:only-child th {\n",
       "        text-align: right;\n",
       "    }\n",
       "\n",
       "    .dataframe thead th {\n",
       "        text-align: left;\n",
       "    }\n",
       "\n",
       "    .dataframe tbody tr th {\n",
       "        vertical-align: top;\n",
       "    }\n",
       "</style>\n",
       "<table border=\"1\" class=\"dataframe\">\n",
       "  <thead>\n",
       "    <tr style=\"text-align: right;\">\n",
       "      <th></th>\n",
       "      <th>ln</th>\n",
       "      <th>dob</th>\n",
       "      <th>gn</th>\n",
       "      <th>fn</th>\n",
       "    </tr>\n",
       "  </thead>\n",
       "  <tbody>\n",
       "    <tr>\n",
       "      <th>count</th>\n",
       "      <td>112</td>\n",
       "      <td>112</td>\n",
       "      <td>112</td>\n",
       "      <td>112</td>\n",
       "    </tr>\n",
       "    <tr>\n",
       "      <th>unique</th>\n",
       "      <td>37</td>\n",
       "      <td>24</td>\n",
       "      <td>2</td>\n",
       "      <td>28</td>\n",
       "    </tr>\n",
       "    <tr>\n",
       "      <th>top</th>\n",
       "      <td>MICHAELSON JR</td>\n",
       "      <td>07-10-37</td>\n",
       "      <td>M</td>\n",
       "      <td>HAROLD</td>\n",
       "    </tr>\n",
       "    <tr>\n",
       "      <th>freq</th>\n",
       "      <td>22</td>\n",
       "      <td>24</td>\n",
       "      <td>86</td>\n",
       "      <td>24</td>\n",
       "    </tr>\n",
       "  </tbody>\n",
       "</table>\n",
       "</div>"
      ],
      "text/plain": [
       "                   ln       dob   gn      fn\n",
       "count             112       112  112     112\n",
       "unique             37        24    2      28\n",
       "top     MICHAELSON JR  07-10-37    M  HAROLD\n",
       "freq               22        24   86      24"
      ]
     },
     "execution_count": 235,
     "metadata": {},
     "output_type": "execute_result"
    }
   ],
   "source": [
    "df.describe()"
   ]
  },
  {
   "cell_type": "code",
   "execution_count": 236,
   "metadata": {},
   "outputs": [
    {
     "data": {
      "text/plain": [
       "ln     37\n",
       "dob    24\n",
       "gn      2\n",
       "fn     28\n",
       "dtype: int64"
      ]
     },
     "execution_count": 236,
     "metadata": {},
     "output_type": "execute_result"
    }
   ],
   "source": [
    "df.nunique()"
   ]
  },
  {
   "cell_type": "markdown",
   "metadata": {},
   "source": [
    "## Vectorizing the Text & Seperating Dates"
   ]
  },
  {
   "cell_type": "code",
   "execution_count": 237,
   "metadata": {
    "collapsed": true
   },
   "outputs": [],
   "source": [
    "from sklearn.feature_extraction.text import CountVectorizer\n",
    "\n",
    "\n",
    "#from sklearn.feature_extraction.text import TfidfVectorizer\n"
   ]
  },
  {
   "cell_type": "code",
   "execution_count": 238,
   "metadata": {
    "collapsed": true
   },
   "outputs": [],
   "source": [
    "df['day']=pd.to_datetime(df['dob']).dt.day\n",
    "df['month']=pd.to_datetime(df['dob']).dt.month\n",
    "df['year']=pd.to_datetime(df['dob']).dt.year"
   ]
  },
  {
   "cell_type": "code",
   "execution_count": 239,
   "metadata": {
    "collapsed": true
   },
   "outputs": [],
   "source": [
    "df.drop('dob',axis=1,inplace=True)"
   ]
  },
  {
   "cell_type": "code",
   "execution_count": 240,
   "metadata": {
    "collapsed": true
   },
   "outputs": [],
   "source": [
    "gender_dummie=pd.get_dummies(df['gn'])"
   ]
  },
  {
   "cell_type": "code",
   "execution_count": 241,
   "metadata": {
    "collapsed": true
   },
   "outputs": [],
   "source": [
    "df=pd.concat([df,gender_dummie],axis=1)\n",
    "df.drop('gn',axis=1,inplace=True)"
   ]
  },
  {
   "cell_type": "code",
   "execution_count": 242,
   "metadata": {
    "collapsed": true
   },
   "outputs": [],
   "source": [
    "from sklearn.cluster import KMeans\n",
    "K=KMeans()"
   ]
  },
  {
   "cell_type": "code",
   "execution_count": 243,
   "metadata": {},
   "outputs": [],
   "source": [
    "vectorizer = CountVectorizer()\n",
    "Vect1=vectorizer.fit_transform(df['fn'])\n",
    "vectorizer.get_feature_names()\n",
    "FirstNameCol=pd.DataFrame(Vect1.toarray(),columns=vectorizer.get_feature_names())\n",
    "\n",
    "vectorizer = CountVectorizer()\n",
    "vectorizer=CountVectorizer()\n",
    "Vect2=vectorizer.fit_transform(df['ln'])\n",
    "SecondNameCol=pd.DataFrame(Vect2.toarray(),columns=vectorizer.get_feature_names())"
   ]
  },
  {
   "cell_type": "code",
   "execution_count": 244,
   "metadata": {
    "collapsed": true
   },
   "outputs": [],
   "source": [
    "Final=pd.concat([df,FirstNameCol,SecondNameCol],axis=1)"
   ]
  },
  {
   "cell_type": "code",
   "execution_count": 245,
   "metadata": {
    "collapsed": true
   },
   "outputs": [],
   "source": [
    "Final.drop(['ln','fn'],axis=1,inplace=True)\n"
   ]
  },
  {
   "cell_type": "markdown",
   "metadata": {},
   "source": [
    "## Creating Manual Feature"
   ]
  },
  {
   "cell_type": "code",
   "execution_count": 246,
   "metadata": {
    "collapsed": true
   },
   "outputs": [],
   "source": [
    "from sklearn.metrics.pairwise import cosine_similarity\n"
   ]
  },
  {
   "cell_type": "code",
   "execution_count": 247,
   "metadata": {},
   "outputs": [],
   "source": [
    "len_fn=[]\n",
    "len_ln=[]\n",
    "\n",
    "for i in range(len(df)):\n",
    "    len_fn.append('fn'+str(i))\n",
    "    len_ln.append('ln'+str(i))\n",
    "    \n"
   ]
  },
  {
   "cell_type": "code",
   "execution_count": 248,
   "metadata": {},
   "outputs": [],
   "source": [
    "fn_df=pd.DataFrame(3*cosine_similarity(Vect1[:], Vect1),columns=len_fn)\n",
    "ln_df=pd.DataFrame(3*cosine_similarity(Vect2[:], Vect2),columns=len_ln)\n",
    "Final_1=pd.concat([Final,fn_df,ln_df],axis=1)"
   ]
  },
  {
   "cell_type": "code",
   "execution_count": 249,
   "metadata": {},
   "outputs": [
    {
     "data": {
      "text/plain": [
       "(112, 112, 112, 112)"
      ]
     },
     "execution_count": 249,
     "metadata": {},
     "output_type": "execute_result"
    }
   ],
   "source": [
    "2*cosine_similarity(Vect1[:], Vect1).shape"
   ]
  },
  {
   "cell_type": "markdown",
   "metadata": {},
   "source": [
    "documents = (\n",
    "    \"Dhruv Rawat\",\n",
    "    \"Dhruv Raj Rawat\",\n",
    "    \"Dhruv Raj Singh Rawat\",\n",
    "    \"Dhruv asd\"\n",
    "    )\n",
    "tfidf_vectorizer = TfidfVectorizer()\n",
    "tfidf_matrix = tfidf_vectorizer.fit_transform(documents)\n",
    "cosine_similarity(tfidf_matrix[:], tfidf_matrix).shape\n"
   ]
  },
  {
   "cell_type": "markdown",
   "metadata": {},
   "source": [
    "# Evaluation"
   ]
  },
  {
   "cell_type": "code",
   "execution_count": 250,
   "metadata": {},
   "outputs": [],
   "source": [
    "from sklearn.metrics import silhouette_score,silhouette_samples"
   ]
  },
  {
   "cell_type": "code",
   "execution_count": 257,
   "metadata": {},
   "outputs": [
    {
     "name": "stdout",
     "output_type": "stream",
     "text": [
      "3 0.3526348812135727\n",
      "4 0.37301166690671467\n",
      "5 0.39681237395776675\n",
      "6 0.43446249548802\n",
      "7 0.44768616662533994\n",
      "8 0.47577875963547517\n",
      "9 0.49470180436012395\n",
      "10 0.522269543122207\n",
      "11 0.5314913239183608\n",
      "12 0.5352750465109908\n",
      "13 0.5479579729436329\n",
      "14 0.5525310637847781\n",
      "15 0.5669481994051537\n",
      "16 0.5833095798731486\n",
      "17 0.5751206260595515\n",
      "18 0.5994755801234506\n",
      "19 0.6064774359434557\n",
      "20 0.624231122073942\n",
      "21 0.6413419132789666\n",
      "22 0.6595190431190253\n",
      "23 0.6485078490619642\n",
      "24 0.6025684212272663\n",
      "25 0.636934933269789\n",
      "26 0.692025249849942\n",
      "27 0.6302983270820557\n",
      "28 0.6529754529668005\n",
      "29 0.6472090584782636\n",
      "30 0.6655675068902748\n",
      "31 0.694077191378531\n",
      "32 0.683042485633333\n",
      "33 0.7147096615128419\n",
      "34 0.7049372232110871\n",
      "35 0.720769111603995\n",
      "36 0.7147853378716794\n",
      "37 0.728966346205109\n",
      "38 0.7274402393111468\n",
      "39 0.7352479715718481\n",
      "40 0.7359163042996234\n",
      "41 0.7587278385852121\n",
      "42 0.7733268578503577\n",
      "43 0.7728129558254994\n",
      "44 0.7727985933680195\n",
      "45 0.7697649805665555\n",
      "46 0.7632011998981252\n",
      "47 0.7626872978732668\n",
      "48 0.7601562849314553\n",
      "49 0.7578656593656267\n",
      "50 0.7502744463622256\n",
      "51 0.7387806664077594\n",
      "52 0.7342299003231781\n",
      "53 0.7221600884858637\n",
      "54 0.71433665261814\n",
      "55 0.7022668407808254\n",
      "56 0.7015934022139858\n",
      "57 0.6946816406396659\n",
      "58 0.7000522776448245\n",
      "59 0.6894306742122543\n",
      "60 0.6896984507983659\n",
      "61 0.6872322295014255\n",
      "62 0.6725360827225032\n",
      "63 0.6548347472237351\n",
      "64 0.6478469767187546\n",
      "65 0.6398870122663899\n",
      "66 0.6339285714285714\n",
      "67 0.6339285714285714\n",
      "68 0.6339285714285714\n",
      "69 0.6339285714285714\n",
      "70 0.6339285714285714\n",
      "71 0.6339285714285714\n",
      "72 0.6339285714285714\n",
      "73 0.6339285714285714\n",
      "74 0.6339285714285714\n",
      "75 0.6339285714285714\n",
      "76 0.6339285714285714\n",
      "77 0.6339285714285714\n",
      "78 0.6339285714285714\n",
      "79 0.6339285714285714\n",
      "80 0.6339285714285714\n",
      "81 0.6339285714285714\n",
      "82 0.6339285714285714\n",
      "83 0.6339285714285714\n",
      "84 0.6339285714285714\n",
      "85 0.6339285714285714\n",
      "86 0.6339285714285714\n",
      "87 0.6339285714285714\n",
      "88 0.6339285714285714\n",
      "89 0.6339285714285714\n",
      "90 0.6339285714285714\n",
      "91 0.6339285714285714\n",
      "92 0.6339285714285714\n",
      "93 0.6339285714285714\n",
      "94 0.6339285714285714\n",
      "95 0.6339285714285714\n",
      "96 0.6339285714285714\n",
      "97 0.6339285714285714\n",
      "98 0.6339285714285714\n",
      "99 0.6339285714285714\n"
     ]
    }
   ],
   "source": [
    "score=[]\n",
    "for i in range(3,100):\n",
    "    Kmeans_model=KMeans(n_clusters=i).fit(Final_1)\n",
    "    labels=Kmeans_model.labels_\n",
    "    score.append(silhouette_score(Final_1,labels))\n",
    "    print(i,silhouette_score(Final_1,labels))"
   ]
  },
  {
   "cell_type": "code",
   "execution_count": 263,
   "metadata": {},
   "outputs": [
    {
     "name": "stdout",
     "output_type": "stream",
     "text": [
      "0.7733268578503577\n",
      "42\n"
     ]
    }
   ],
   "source": [
    "print (max(score))\n",
    "print (score.index(max(score))+3)"
   ]
  },
  {
   "cell_type": "code",
   "execution_count": 264,
   "metadata": {
    "collapsed": true
   },
   "outputs": [],
   "source": [
    "Kmeans_model=KMeans(n_clusters=42).fit(Final_1)\n",
    "labels=Kmeans_model.labels_"
   ]
  },
  {
   "cell_type": "code",
   "execution_count": 265,
   "metadata": {},
   "outputs": [
    {
     "data": {
      "text/plain": [
       "array([ 2,  2,  2,  2,  2,  0,  0,  0, 38, 38, 20, 30, 20,  0, 17, 17, 16,\n",
       "       16, 16, 22, 34, 22, 34, 10, 12, 10, 12, 18, 26, 26, 39, 28, 28,  9,\n",
       "        9, 40, 40, 40, 19, 19,  3,  3, 23, 23, 37, 11, 11, 29, 15, 15, 25,\n",
       "       25, 25,  6,  6,  6,  6,  6, 21, 21, 21, 35, 36, 36, 41, 41,  8,  8,\n",
       "        8,  8,  8,  8,  8,  8,  8, 27, 27, 27, 27,  7,  7, 41, 27, 27, 41,\n",
       "       41,  1,  1, 31, 31, 32, 32, 32, 31, 24,  5, 24, 24, 24, 33, 13, 13,\n",
       "       13, 14, 14, 14,  4,  4,  4,  4,  4,  4])"
      ]
     },
     "execution_count": 265,
     "metadata": {},
     "output_type": "execute_result"
    }
   ],
   "source": [
    "labels"
   ]
  },
  {
   "cell_type": "code",
   "execution_count": 266,
   "metadata": {
    "collapsed": true
   },
   "outputs": [],
   "source": [
    "Score=pd.DataFrame(labels,columns=['Similarity'])"
   ]
  },
  {
   "cell_type": "code",
   "execution_count": 267,
   "metadata": {},
   "outputs": [],
   "source": [
    "pd.concat([df,Score],axis=1).to_csv(\"clustered_4_max_score.csv\",index=False)\n"
   ]
  },
  {
   "cell_type": "code",
   "execution_count": null,
   "metadata": {
    "collapsed": true
   },
   "outputs": [],
   "source": []
  },
  {
   "cell_type": "code",
   "execution_count": null,
   "metadata": {
    "collapsed": true
   },
   "outputs": [],
   "source": []
  }
 ],
 "metadata": {
  "kernelspec": {
   "display_name": "Python 3",
   "language": "python",
   "name": "python3"
  },
  "language_info": {
   "codemirror_mode": {
    "name": "ipython",
    "version": 3
   },
   "file_extension": ".py",
   "mimetype": "text/x-python",
   "name": "python",
   "nbconvert_exporter": "python",
   "pygments_lexer": "ipython3",
   "version": "3.6.1"
  }
 },
 "nbformat": 4,
 "nbformat_minor": 2
}
